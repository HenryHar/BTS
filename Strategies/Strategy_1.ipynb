{
 "cells": [
  {
   "cell_type": "markdown",
   "metadata": {},
   "source": [
    "# Strategy 1:\n",
    "\n",
    "Randomly pick any positional player who played (game does not let you pick a starting pitcher in the NL).\n",
    "\n",
    "Number of picks per day:  1\n",
    "Pick any season\n",
    "Play everyday of the season\n",
    "Simulate experiment 1,000 times\n",
    "Plot and show results"
   ]
  },
  {
   "cell_type": "code",
   "execution_count": 1,
   "metadata": {},
   "outputs": [],
   "source": [
    "import pandas as pd\n",
    "import numpy as np\n",
    "import sys\n",
    "sys.path.append('../')\n",
    "from streak_counter import streak_counter, hit_checker\n",
    "import random\n",
    "import matplotlib.pyplot as plt\n",
    "%matplotlib inline\n",
    "from tqdm import tqdm_notebook as tqdm\n",
    "\n",
    "d = pd.read_csv('../retrosheet_data/2005-2018_games.csv')\n",
    "d.rename(columns={'unknown':'double_header_flag'}, inplace=True)\n",
    "d['ab_flag'] = d.ab_flag.map({'F':0,'T':1})"
   ]
  },
  {
   "cell_type": "code",
   "execution_count": 2,
   "metadata": {},
   "outputs": [
    {
     "name": "stdout",
     "output_type": "stream",
     "text": [
      "2016\n"
     ]
    }
   ],
   "source": [
    "df = d.copy()\n",
    "year = int(input())\n",
    "df = df[df['year'] == year]\n",
    "groups = df.groupby(['month','day_'])"
   ]
  },
  {
   "cell_type": "code",
   "execution_count": 3,
   "metadata": {},
   "outputs": [],
   "source": [
    "game_dates = groups.nunique().index.tolist()"
   ]
  },
  {
   "cell_type": "code",
   "execution_count": 4,
   "metadata": {
    "scrolled": false
   },
   "outputs": [
    {
     "data": {
      "application/vnd.jupyter.widget-view+json": {
       "model_id": "f39efabae860472bbe0718c1c02f737b",
       "version_major": 2,
       "version_minor": 0
      },
      "text/plain": [
       "HBox(children=(IntProgress(value=0, max=1000), HTML(value='')))"
      ]
     },
     "metadata": {},
     "output_type": "display_data"
    },
    {
     "name": "stdout",
     "output_type": "stream",
     "text": [
      "\n"
     ]
    }
   ],
   "source": [
    "list_streaks = []\n",
    "for _ in tqdm(range(1000)):\n",
    "    streak = 0   #reset the streak every time the season ends\n",
    "    for dates in game_dates:   #game_dates is a list of tuples, each tuple is (month, day)\n",
    "        daily_df = groups.get_group(dates)\n",
    "        #req to remove pitchers since you cant pick them\n",
    "        available_batters = set(daily_df.res_batter.unique())  - set (daily_df.res_pitcher)   \n",
    "        batters = random.sample((available_batters),1)\n",
    "        new_streak = hit_checker(daily_df, batters)\n",
    "        if new_streak == 'continue_streak':\n",
    "            pass\n",
    "        elif new_streak == 'lose_streak' :\n",
    "            list_streaks.append(streak)\n",
    "            streak = 0\n",
    "        else:\n",
    "            streak = streak + new_streak"
   ]
  },
  {
   "cell_type": "code",
   "execution_count": 5,
   "metadata": {},
   "outputs": [
    {
     "data": {
      "image/png": "[encoded data removed]",
      "text/plain": [
       "<Figure size 432x288 with 1 Axes>"
      ]
     },
     "metadata": {
      "needs_background": "light"
     },
     "output_type": "display_data"
    }
   ],
   "source": [
    "plt.hist(list_streaks);"
   ]
  },
  {
   "cell_type": "code",
   "execution_count": 6,
   "metadata": {},
   "outputs": [
    {
     "data": {
      "text/plain": [
       "0     29214\n",
       "1     17306\n",
       "2     10171\n",
       "3      6083\n",
       "4      3569\n",
       "5      2055\n",
       "6      1236\n",
       "7       732\n",
       "8       411\n",
       "9       289\n",
       "10      168\n",
       "11       96\n",
       "12       57\n",
       "13       33\n",
       "15       14\n",
       "14       12\n",
       "16        5\n",
       "18        4\n",
       "17        3\n",
       "19        2\n",
       "20        1\n",
       "dtype: int64"
      ]
     },
     "execution_count": 6,
     "metadata": {},
     "output_type": "execute_result"
    }
   ],
   "source": [
    "l_series = pd.Series(list_streaks).value_counts()\n",
    "l_series"
   ]
  },
  {
   "cell_type": "code",
   "execution_count": 7,
   "metadata": {},
   "outputs": [],
   "source": [
    "results = l_series.to_frame().reset_index()\n",
    "results.rename(columns={'index':'Streak',0:'number_of_times'},inplace=True)\n",
    "results['percentage'] = results['number_of_times'] / sum(results['number_of_times'])\n",
    "results.sort_values(by='Streak',inplace=True);"
   ]
  },
  {
   "cell_type": "code",
   "execution_count": 8,
   "metadata": {},
   "outputs": [
    {
     "data": {
      "text/html": [
       "<div>\n",
       "<style scoped>\n",
       "    .dataframe tbody tr th:only-of-type {\n",
       "        vertical-align: middle;\n",
       "    }\n",
       "\n",
       "    .dataframe tbody tr th {\n",
       "        vertical-align: top;\n",
       "    }\n",
       "\n",
       "    .dataframe thead th {\n",
       "        text-align: right;\n",
       "    }\n",
       "</style>\n",
       "<table border=\"1\" class=\"dataframe\">\n",
       "  <thead>\n",
       "    <tr style=\"text-align: right;\">\n",
       "      <th></th>\n",
       "      <th>Streak</th>\n",
       "      <th>number_of_times</th>\n",
       "      <th>percentage</th>\n",
       "    </tr>\n",
       "  </thead>\n",
       "  <tbody>\n",
       "    <tr>\n",
       "      <th>0</th>\n",
       "      <td>0</td>\n",
       "      <td>29214</td>\n",
       "      <td>0.408810</td>\n",
       "    </tr>\n",
       "    <tr>\n",
       "      <th>1</th>\n",
       "      <td>1</td>\n",
       "      <td>17306</td>\n",
       "      <td>0.242174</td>\n",
       "    </tr>\n",
       "    <tr>\n",
       "      <th>2</th>\n",
       "      <td>2</td>\n",
       "      <td>10171</td>\n",
       "      <td>0.142329</td>\n",
       "    </tr>\n",
       "    <tr>\n",
       "      <th>3</th>\n",
       "      <td>3</td>\n",
       "      <td>6083</td>\n",
       "      <td>0.085123</td>\n",
       "    </tr>\n",
       "    <tr>\n",
       "      <th>4</th>\n",
       "      <td>4</td>\n",
       "      <td>3569</td>\n",
       "      <td>0.049943</td>\n",
       "    </tr>\n",
       "    <tr>\n",
       "      <th>5</th>\n",
       "      <td>5</td>\n",
       "      <td>2055</td>\n",
       "      <td>0.028757</td>\n",
       "    </tr>\n",
       "    <tr>\n",
       "      <th>6</th>\n",
       "      <td>6</td>\n",
       "      <td>1236</td>\n",
       "      <td>0.017296</td>\n",
       "    </tr>\n",
       "    <tr>\n",
       "      <th>7</th>\n",
       "      <td>7</td>\n",
       "      <td>732</td>\n",
       "      <td>0.010243</td>\n",
       "    </tr>\n",
       "    <tr>\n",
       "      <th>8</th>\n",
       "      <td>8</td>\n",
       "      <td>411</td>\n",
       "      <td>0.005751</td>\n",
       "    </tr>\n",
       "    <tr>\n",
       "      <th>9</th>\n",
       "      <td>9</td>\n",
       "      <td>289</td>\n",
       "      <td>0.004044</td>\n",
       "    </tr>\n",
       "    <tr>\n",
       "      <th>10</th>\n",
       "      <td>10</td>\n",
       "      <td>168</td>\n",
       "      <td>0.002351</td>\n",
       "    </tr>\n",
       "    <tr>\n",
       "      <th>11</th>\n",
       "      <td>11</td>\n",
       "      <td>96</td>\n",
       "      <td>0.001343</td>\n",
       "    </tr>\n",
       "    <tr>\n",
       "      <th>12</th>\n",
       "      <td>12</td>\n",
       "      <td>57</td>\n",
       "      <td>0.000798</td>\n",
       "    </tr>\n",
       "    <tr>\n",
       "      <th>13</th>\n",
       "      <td>13</td>\n",
       "      <td>33</td>\n",
       "      <td>0.000462</td>\n",
       "    </tr>\n",
       "    <tr>\n",
       "      <th>15</th>\n",
       "      <td>14</td>\n",
       "      <td>12</td>\n",
       "      <td>0.000168</td>\n",
       "    </tr>\n",
       "    <tr>\n",
       "      <th>14</th>\n",
       "      <td>15</td>\n",
       "      <td>14</td>\n",
       "      <td>0.000196</td>\n",
       "    </tr>\n",
       "    <tr>\n",
       "      <th>16</th>\n",
       "      <td>16</td>\n",
       "      <td>5</td>\n",
       "      <td>0.000070</td>\n",
       "    </tr>\n",
       "    <tr>\n",
       "      <th>18</th>\n",
       "      <td>17</td>\n",
       "      <td>3</td>\n",
       "      <td>0.000042</td>\n",
       "    </tr>\n",
       "    <tr>\n",
       "      <th>17</th>\n",
       "      <td>18</td>\n",
       "      <td>4</td>\n",
       "      <td>0.000056</td>\n",
       "    </tr>\n",
       "    <tr>\n",
       "      <th>19</th>\n",
       "      <td>19</td>\n",
       "      <td>2</td>\n",
       "      <td>0.000028</td>\n",
       "    </tr>\n",
       "    <tr>\n",
       "      <th>20</th>\n",
       "      <td>20</td>\n",
       "      <td>1</td>\n",
       "      <td>0.000014</td>\n",
       "    </tr>\n",
       "  </tbody>\n",
       "</table>\n",
       "</div>"
      ],
      "text/plain": [
       "    Streak  number_of_times  percentage\n",
       "0        0            29214    0.408810\n",
       "1        1            17306    0.242174\n",
       "2        2            10171    0.142329\n",
       "3        3             6083    0.085123\n",
       "4        4             3569    0.049943\n",
       "5        5             2055    0.028757\n",
       "6        6             1236    0.017296\n",
       "7        7              732    0.010243\n",
       "8        8              411    0.005751\n",
       "9        9              289    0.004044\n",
       "10      10              168    0.002351\n",
       "11      11               96    0.001343\n",
       "12      12               57    0.000798\n",
       "13      13               33    0.000462\n",
       "15      14               12    0.000168\n",
       "14      15               14    0.000196\n",
       "16      16                5    0.000070\n",
       "18      17                3    0.000042\n",
       "17      18                4    0.000056\n",
       "19      19                2    0.000028\n",
       "20      20                1    0.000014"
      ]
     },
     "execution_count": 8,
     "metadata": {},
     "output_type": "execute_result"
    }
   ],
   "source": [
    "results"
   ]
  },
  {
   "cell_type": "code",
   "execution_count": 9,
   "metadata": {},
   "outputs": [
    {
     "name": "stdout",
     "output_type": "stream",
     "text": [
      "total number of streaks: 71461\n"
     ]
    }
   ],
   "source": [
    "print('total number of streaks:', sum(l_series))"
   ]
  }
 ],
 "metadata": {
  "kernelspec": {
   "display_name": "Python 3",
   "language": "python",
   "name": "python3"
  },
  "language_info": {
   "codemirror_mode": {
    "name": "ipython",
    "version": 3
   },
   "file_extension": ".py",
   "mimetype": "text/x-python",
   "name": "python",
   "nbconvert_exporter": "python",
   "pygments_lexer": "ipython3",
   "version": "3.6.8"
  }
 },
 "nbformat": 4,
 "nbformat_minor": 2
}
