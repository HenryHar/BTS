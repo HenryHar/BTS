{
 "cells": [
  {
   "cell_type": "code",
   "execution_count": 1,
   "metadata": {},
   "outputs": [],
   "source": [
    "import pandas as pd\n",
    "import numpy as np\n",
    "import sys\n",
    "sys.path.append('../')\n",
    "from streak_counter import hit_checker\n",
    "import random\n",
    "import matplotlib.pyplot as plt\n",
    "%matplotlib inline\n",
    "from tqdm import tqdm_notebook as tqdm\n",
    "\n",
    "import warnings\n",
    "warnings.filterwarnings('ignore')\n",
    "\n",
    "d = pd.read_csv('../retrosheet_data/2005-2018_games.csv')\n",
    "d.rename(columns={'unknown':'double_header_flag'}, inplace=True)\n",
    "d['ab_flag'] = d.ab_flag.map({'F':0,'T':1})\n",
    "d.sh_flag = d.sh_flag.map({'F':0,'T':1})\n",
    "d.sf_flag = d.sf_flag.map({'F':0,'T':1})"
   ]
  },
  {
   "cell_type": "markdown",
   "metadata": {},
   "source": [
    "## Calculating Batting Average and H/PA\n",
    "\n",
    "H / AB\n",
    "\n",
    "Simplify it like Ralph said: just pick a year then go with it\n",
    "\n",
    "<br>Way Algorithm works: it picks all the events for a PA (at-bat, walk, intentional walk, hit by pitch, interference and hits)\n",
    "\n",
    "<br>It appends everything to 1 main data frame based on the chosen date\n",
    "\n",
    "<br> So far, it returns H/PA, H, PA, AB, Gm_played (games played), and BA\n"
   ]
  },
  {
   "cell_type": "code",
   "execution_count": 2,
   "metadata": {},
   "outputs": [],
   "source": [
    "def calculate_best_batter(df, dates):\n",
    "    \n",
    "    #find me all the Plate Apperances as described by MLB rules\n",
    "    AB_only = df[df.ab_flag == 1]\n",
    "    event_flags = [14,15,16,17] #14 is BB 15 is IBB 16 is HBP 17 is interference\n",
    "    BB_IBB_HBP_INT = df[df.event_type.isin(event_flags)]\n",
    "    sac_hits = df[df.sh_flag ==1]\n",
    "    sac_fly  = df[df.sf_flag ==1]\n",
    "    new_df = AB_only.append(BB_IBB_HBP_INT)\n",
    "    new_df = new_df.append(sac_hits)\n",
    "    new_df = new_df.append(sac_fly)\n",
    "\n",
    "    month = dates[0]\n",
    "    day   = dates[1]\n",
    "    \n",
    "    #filter out the data you don't need, IE only pick the previous months and day beforehand\n",
    "    if month <= 3:\n",
    "        new_df = new_df[new_df.month <= month]\n",
    "        new_df = new_df[new_df.day_ <= day]\n",
    "    else:\n",
    "        prev_months_df   = new_df[new_df.month < month]\n",
    "        current_month_df = new_df[new_df.month == month]\n",
    "        current_month_days_df = current_month_df[current_month_df.day_ < day]\n",
    "        new_df = prev_months_df.append(current_month_days_df) \n",
    "\n",
    "\n",
    "    hit_flags = [20,21,22,23]\n",
    "    new_df.loc[new_df.event_type.isin(hit_flags),'hit_flag'] = 1\n",
    "    new_df.loc[new_df.event_type.isin(hit_flags)==False,'hit_flag'] = 0\n",
    "\n",
    "    batters_records = new_df.groupby(['res_batter'])\n",
    "    batting_summary = batters_records.agg({'hit_flag':[np.mean,np.sum, np.size],'ab_flag':[np.sum],'game_id':pd.Series.nunique})\n",
    "\n",
    "    batting_hits_pa = batting_summary.hit_flag\n",
    "    batting_hits_pa.rename(columns={'mean':'H/PA','sum':'H','size':'PA'}, inplace=True)\n",
    "\n",
    "    batting_ab = batting_summary.ab_flag\n",
    "    batting_ab.rename(columns={'sum':'AB'}, inplace=True)\n",
    "\n",
    "    batting_games_played = batting_summary.game_id\n",
    "    batting_games_played.rename(columns={'nunique':'Gm_played'}, inplace=True)\n",
    "\n",
    "    batting_summary = pd.concat([batting_hits_pa,batting_ab,batting_games_played], axis =1)\n",
    "    batting_summary.loc[:,'BA'] = batting_summary.loc[:,'H'] / batting_summary.loc[:,'AB']\n",
    "    batting_summary['H/Gm_played'] = batting_summary['H'] / batting_summary['Gm_played']\n",
    "    \n",
    "    batting_summary.sort_values(by=['Gm_played'], inplace=True)\n",
    "    gm_filter = 0\n",
    "    gm_filter = batting_summary.Gm_played.max() * 0.7\n",
    "    #print(gm_filter)\n",
    "    batting_summary = batting_summary[batting_summary.Gm_played >= gm_filter]   #filter for players who play mostly every day\n",
    "    #FILTER CRITERIA. TRYING TO MAKE IT BASED on something like # games player started, probably  / #games his team played\n",
    "    return batting_summary\n",
    "    "
   ]
  },
  {
   "cell_type": "code",
   "execution_count": 3,
   "metadata": {},
   "outputs": [],
   "source": [
    "df_test = d.copy()\n",
    "df_test = df_test.query('year == 2016')"
   ]
  },
  {
   "cell_type": "code",
   "execution_count": 4,
   "metadata": {},
   "outputs": [],
   "source": [
    "groups = df_test.groupby(['month','day_'])\n",
    "game_dates = groups.nunique().index.tolist()"
   ]
  },
  {
   "cell_type": "markdown",
   "metadata": {},
   "source": [
    "## Strategy 1:\n",
    "\n",
    "Pick the batter with the highest batting average, start from 16th game of season and on-wards\n",
    "<br><br> If the batter didn't play that day, it will try with the second best batting average player etc until it finds someone who has played\n",
    "\n",
    "<br> The batter with the highest batting average doesn't play on a specific day for a few reasons.<br>A) His team didn't play at all <br>B) He got a rest day from his coach <br>C) He might have had 1 AB as a sub so this will need to be revised in a future strategy <br> D) He might have only gotten walks or intentional walks in a game but that is EXTREMELY rare so I will ignore this case. In fact, this may only happen once per season for all the batters in the league. This is equivalent to starting and finishing a game but not registering an AB because you were walked or you only hit sacrifice flies/bunts the whole game."
   ]
  },
  {
   "cell_type": "code",
   "execution_count": 5,
   "metadata": {},
   "outputs": [
    {
     "name": "stdout",
     "output_type": "stream",
     "text": [
      "Complete\n",
      "\n",
      "Hit counter 118  total_games_played 163  \n",
      "Ratio: 0.7239263803680982\n"
     ]
    }
   ],
   "source": [
    "i = 15\n",
    "hit_counter = 0\n",
    "total_counter = 0\n",
    "\n",
    "while i < len(game_dates) -1 :\n",
    "    batter_rank = 0\n",
    "    df_test2 =calculate_best_batter(df_test,game_dates[i])\n",
    "    batter = df_test2.sort_values(by=['BA'], ascending=False).iloc[batter_rank].name.split()\n",
    "    daily_hit_result = hit_checker(groups.get_group(game_dates[i]), batter)\n",
    "    i = i + 1\n",
    "    \n",
    "    while (daily_hit_result == 'continue_streak'):\n",
    "        batter_rank = batter_rank + 1 \n",
    "        batter = df_test2.sort_values(by=['BA'], ascending=False).iloc[batter_rank].name.split()\n",
    "        daily_hit_result = hit_checker(groups.get_group(game_dates[i]), batter)\n",
    "\n",
    "    if daily_hit_result =='lose_streak':\n",
    "        pass\n",
    "    else:\n",
    "        hit_counter = hit_counter + 1\n",
    "        \n",
    "    total_counter = total_counter + 1\n",
    "    \n",
    "print('Complete\\n')\n",
    "print('Hit counter', hit_counter, ' total_games_played', total_counter, ' \\nRatio:',hit_counter/total_counter)"
   ]
  },
  {
   "cell_type": "markdown",
   "metadata": {},
   "source": [
    "## Strategy 2:\n",
    "\n",
    "Pick the batter with the highest H/PA"
   ]
  },
  {
   "cell_type": "code",
   "execution_count": 6,
   "metadata": {},
   "outputs": [
    {
     "name": "stdout",
     "output_type": "stream",
     "text": [
      "Complete\n",
      "\n",
      "Hit counter 115  total_games_played 163  \n",
      "Ratio: 0.7055214723926381\n"
     ]
    }
   ],
   "source": [
    "i = 15\n",
    "hit_counter = 0\n",
    "total_counter = 0\n",
    "\n",
    "while i < len(game_dates) -1 :\n",
    "    batter_rank = 0\n",
    "    df_test2 =calculate_best_batter(df_test,game_dates[i])\n",
    "    batter = df_test2.sort_values(by=['H/PA'], ascending=False).iloc[batter_rank].name.split()\n",
    "    daily_hit_result = hit_checker(groups.get_group(game_dates[i]), batter)\n",
    "    i = i + 1\n",
    "    \n",
    "    while (daily_hit_result == 'continue_streak'):\n",
    "        batter_rank = batter_rank + 1 \n",
    "        batter = df_test2.sort_values(by=['H/PA'], ascending=False).iloc[batter_rank].name.split()\n",
    "        daily_hit_result = hit_checker(groups.get_group(game_dates[i]), batter)\n",
    "\n",
    "    if daily_hit_result =='lose_streak':\n",
    "        pass\n",
    "    else:\n",
    "        hit_counter = hit_counter + 1\n",
    "        \n",
    "    total_counter = total_counter + 1\n",
    "    \n",
    "print('Complete\\n')\n",
    "print('Hit counter', hit_counter, ' total_games_played', total_counter, ' \\nRatio:',hit_counter/total_counter)"
   ]
  },
  {
   "cell_type": "markdown",
   "metadata": {},
   "source": [
    "## Strategy 3:\n",
    "\n",
    "Pick the batter with the highest H/Gm_played"
   ]
  },
  {
   "cell_type": "code",
   "execution_count": 7,
   "metadata": {},
   "outputs": [
    {
     "name": "stdout",
     "output_type": "stream",
     "text": [
      "Complete\n",
      "\n",
      "Hit counter 117  total_games_played 163  \n",
      "Ratio: 0.7177914110429447\n"
     ]
    }
   ],
   "source": [
    "i = 15\n",
    "hit_counter = 0\n",
    "total_counter = 0\n",
    "\n",
    "while i < len(game_dates) -1 :\n",
    "    batter_rank = 0\n",
    "    df_test2 =calculate_best_batter(df_test,game_dates[i])\n",
    "    batter = df_test2.sort_values(by=['H/Gm_played'], ascending=False).iloc[batter_rank].name.split()\n",
    "    daily_hit_result = hit_checker(groups.get_group(game_dates[i]), batter)\n",
    "    i = i + 1\n",
    "    \n",
    "    while (daily_hit_result == 'continue_streak'):\n",
    "        batter_rank = batter_rank + 1 \n",
    "        batter = df_test2.sort_values(by=['H/Gm_played'], ascending=False).iloc[batter_rank].name.split()\n",
    "        daily_hit_result = hit_checker(groups.get_group(game_dates[i]), batter)\n",
    "\n",
    "    if daily_hit_result =='lose_streak':\n",
    "        pass\n",
    "    else:\n",
    "        hit_counter = hit_counter + 1\n",
    "        \n",
    "    total_counter = total_counter + 1\n",
    "    \n",
    "print('Complete\\n')\n",
    "print('Hit counter', hit_counter, ' total_games_played', total_counter, ' \\nRatio:',hit_counter/total_counter)"
   ]
  },
  {
   "cell_type": "markdown",
   "metadata": {},
   "source": [
    "## Strategy 4:\n",
    "\n",
    "Pick the batter with the highest at least 1 hit per game ratio this season"
   ]
  },
  {
   "cell_type": "markdown",
   "metadata": {},
   "source": [
    "## Strategy 5:\n",
    "\n",
    "Pick the batter with the highest number of hits"
   ]
  },
  {
   "cell_type": "code",
   "execution_count": 8,
   "metadata": {},
   "outputs": [
    {
     "name": "stdout",
     "output_type": "stream",
     "text": [
      "Complete\n",
      "\n",
      "Hit counter 118  total_games_played 163  \n",
      "Ratio: 0.7239263803680982\n"
     ]
    }
   ],
   "source": [
    "i = 15\n",
    "hit_counter = 0\n",
    "total_counter = 0\n",
    "\n",
    "while i < len(game_dates) -1 :\n",
    "    batter_rank = 0\n",
    "    df_test2 =calculate_best_batter(df_test,game_dates[i])\n",
    "    batter = df_test2.sort_values(by=['H'], ascending=False).iloc[batter_rank].name.split()\n",
    "    daily_hit_result = hit_checker(groups.get_group(game_dates[i]), batter)\n",
    "    i = i + 1\n",
    "    \n",
    "    while (daily_hit_result == 'continue_streak'):\n",
    "        batter_rank = batter_rank + 1 \n",
    "        batter = df_test2.sort_values(by=['H'], ascending=False).iloc[batter_rank].name.split()\n",
    "        daily_hit_result = hit_checker(groups.get_group(game_dates[i]), batter)\n",
    "\n",
    "    if daily_hit_result =='lose_streak':\n",
    "        pass\n",
    "    else:\n",
    "        hit_counter = hit_counter + 1\n",
    "        \n",
    "    total_counter = total_counter + 1\n",
    "    \n",
    "print('Complete\\n')\n",
    "print('Hit counter', hit_counter, ' total_games_played', total_counter, ' \\nRatio:',hit_counter/total_counter)"
   ]
  },
  {
   "cell_type": "markdown",
   "metadata": {},
   "source": [
    "## Strategy 1. run from 2009 to 2018"
   ]
  },
  {
   "cell_type": "code",
   "execution_count": 12,
   "metadata": {},
   "outputs": [
    {
     "data": {
      "application/vnd.jupyter.widget-view+json": {
       "model_id": "1dbc23a078ea4ee6a4ef5d015805d036",
       "version_major": 2,
       "version_minor": 0
      },
      "text/plain": [
       "HBox(children=(IntProgress(value=0, max=10), HTML(value='')))"
      ]
     },
     "metadata": {},
     "output_type": "display_data"
    },
    {
     "name": "stdout",
     "output_type": "stream",
     "text": [
      "Complete\n",
      "\n",
      "Year: 2009\n",
      "\n",
      "Hit counter 124  total_games_played 165  \n",
      "Ratio: 0.7515151515151515\n",
      "Complete\n",
      "\n",
      "Year: 2010\n",
      "\n",
      "Hit counter 113  total_games_played 164  \n",
      "Ratio: 0.6890243902439024\n",
      "Complete\n",
      "\n",
      "Year: 2011\n",
      "\n",
      "Hit counter 112  total_games_played 163  \n",
      "Ratio: 0.6871165644171779\n",
      "Complete\n",
      "\n",
      "Year: 2012\n",
      "\n",
      "Hit counter 115  total_games_played 165  \n",
      "Ratio: 0.696969696969697\n",
      "Complete\n",
      "\n",
      "Year: 2013\n",
      "\n",
      "Hit counter 121  total_games_played 164  \n",
      "Ratio: 0.7378048780487805\n",
      "Complete\n",
      "\n",
      "Year: 2014\n",
      "\n",
      "Hit counter 122  total_games_played 165  \n",
      "Ratio: 0.7393939393939394\n",
      "Complete\n",
      "\n",
      "Year: 2015\n",
      "\n",
      "Hit counter 112  total_games_played 163  \n",
      "Ratio: 0.6871165644171779\n",
      "Complete\n",
      "\n",
      "Year: 2016\n",
      "\n",
      "Hit counter 118  total_games_played 163  \n",
      "Ratio: 0.7239263803680982\n",
      "Complete\n",
      "\n",
      "Year: 2017\n",
      "\n",
      "Hit counter 111  total_games_played 163  \n",
      "Ratio: 0.6809815950920245\n",
      "Complete\n",
      "\n",
      "Year: 2018\n",
      "\n",
      "Hit counter 122  total_games_played 168  \n",
      "Ratio: 0.7261904761904762\n"
     ]
    }
   ],
   "source": [
    "years = np.arange(2009, 2019, 1)\n",
    "\n",
    "for year2 in tqdm(years):\n",
    "    df_test = d.copy()\n",
    "    df_test = df_test[df_test.year== year2]\n",
    "\n",
    "    groups = df_test.groupby(['month','day_'])\n",
    "    game_dates = groups.nunique().index.tolist()\n",
    "\n",
    "    i = 15\n",
    "    hit_counter = 0\n",
    "    total_counter = 0\n",
    "\n",
    "    while i < len(game_dates) -1 :\n",
    "        batter_rank = 0\n",
    "        df_test2 =calculate_best_batter(df_test,game_dates[i])\n",
    "        batter = df_test2.sort_values(by=['BA'], ascending=False).iloc[batter_rank].name.split()\n",
    "        daily_hit_result = hit_checker(groups.get_group(game_dates[i]), batter)\n",
    "        i = i + 1\n",
    "\n",
    "        while (daily_hit_result == 'continue_streak'):\n",
    "            batter_rank = batter_rank + 1 \n",
    "            batter = df_test2.sort_values(by=['BA'], ascending=False).iloc[batter_rank].name.split()\n",
    "            daily_hit_result = hit_checker(groups.get_group(game_dates[i]), batter)\n",
    "\n",
    "        if daily_hit_result =='lose_streak':\n",
    "            pass\n",
    "        else:\n",
    "            hit_counter = hit_counter + 1\n",
    "\n",
    "        total_counter = total_counter + 1\n",
    "\n",
    "    print('Complete\\n')\n",
    "    print('Year:', year2)\n",
    "    print('\\nHit counter', hit_counter, ' total_games_played', total_counter, ' \\nRatio:',hit_counter/total_counter)"
   ]
  },
  {
   "cell_type": "code",
   "execution_count": null,
   "metadata": {},
   "outputs": [],
   "source": [
    "def team_game_table(df2):\n",
    "    team_games_away = df2.groupby(['away_team'])\n",
    "    team_games_home = df2.groupby(['home_team'])\n",
    "    away_games = team_games_away.agg({'game_id':pd.Series.nunique}).reset_index().rename(columns={'game_id':'away_games'})\n",
    "    home_games = team_games_home.agg({'game_id':pd.Series.nunique}).reset_index().rename(columns={'game_id':'home_games'})\n",
    "    team_games = pd.merge(away_games, home_games, left_on=['away_team'], right_on=['home_team'],how='inner')\n",
    "    team_games.drop('home_team',inplace=True, axis=1)\n",
    "    team_games['total'] = team_games.away_games + team_games.home_games\n",
    "    return team_games"
   ]
  }
 ],
 "metadata": {
  "kernelspec": {
   "display_name": "Python 3",
   "language": "python",
   "name": "python3"
  },
  "language_info": {
   "codemirror_mode": {
    "name": "ipython",
    "version": 3
   },
   "file_extension": ".py",
   "mimetype": "text/x-python",
   "name": "python",
   "nbconvert_exporter": "python",
   "pygments_lexer": "ipython3",
   "version": "3.6.8"
  }
 },
 "nbformat": 4,
 "nbformat_minor": 2
}
