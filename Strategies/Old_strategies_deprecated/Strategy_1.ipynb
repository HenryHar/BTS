{
 "cells": [
  {
   "cell_type": "markdown",
   "metadata": {},
   "source": [
    "# Strategy 1:\n",
    "\n",
    "Randomly pick any positional player who played (game does not let you pick a starting pitcher in the NL).\n",
    "\n",
    "Number of picks per day:  1\n",
    "<br>Pick any season\n",
    "<br>Play everyday of the season\n",
    "<br>Simulate experiment 1,000 times\n",
    "<br>Plot and show results"
   ]
  },
  {
   "cell_type": "code",
   "execution_count": 1,
   "metadata": {},
   "outputs": [],
   "source": [
    "import pandas as pd\n",
    "import numpy as np\n",
    "import sys\n",
    "sys.path.append('../')\n",
    "from streak_counter import streak_counter, hit_checker\n",
    "import random\n",
    "import matplotlib.pyplot as plt\n",
    "%matplotlib inline\n",
    "from tqdm import tqdm_notebook as tqdm\n",
    "\n",
    "d = pd.read_csv('../retrosheet_data/2005-2018_games.csv')\n",
    "d.rename(columns={'unknown':'double_header_flag'}, inplace=True)\n",
    "d['ab_flag'] = d.ab_flag.map({'F':0,'T':1})"
   ]
  },
  {
   "cell_type": "code",
   "execution_count": null,
   "metadata": {},
   "outputs": [],
   "source": [
    "df = d.copy()\n",
    "year = int(input())\n",
    "df = df[df['year'] == year]\n",
    "groups = df.groupby(['month','day_'])"
   ]
  },
  {
   "cell_type": "code",
   "execution_count": 3,
   "metadata": {},
   "outputs": [],
   "source": [
    "game_dates = groups.nunique().index.tolist()"
   ]
  },
  {
   "cell_type": "code",
   "execution_count": 5,
   "metadata": {
    "scrolled": false
   },
   "outputs": [
    {
     "data": {
      "application/vnd.jupyter.widget-view+json": {
       "model_id": "7934efdf5c304d23b23e43342865a35d",
       "version_major": 2,
       "version_minor": 0
      },
      "text/plain": [
       "HBox(children=(IntProgress(value=0, max=1000), HTML(value='')))"
      ]
     },
     "metadata": {},
     "output_type": "display_data"
    },
    {
     "name": "stdout",
     "output_type": "stream",
     "text": [
      "\n"
     ]
    }
   ],
   "source": [
    "list_streaks = []\n",
    "list_streaks2 = []\n",
    "for _ in tqdm(range(1000)):\n",
    "    streak = 0   #reset the streak every time the season ends\n",
    "    streak2 = 0\n",
    "    for dates in game_dates:   #game_dates is a list of tuples, each tuple is (month, day)\n",
    "        daily_df = groups.get_group(dates)\n",
    "        #req to remove pitchers since you cant pick them\n",
    "        available_batters = set(daily_df.res_batter.unique())  - set (daily_df.res_pitcher)   \n",
    "        batters = random.sample((available_batters),1)\n",
    "        batters2 = random.sample((available_batters),2)\n",
    "        new_streak2 = hit_checker(daily_df,batters2)\n",
    "        new_streak = hit_checker(daily_df, batters)\n",
    "        if new_streak == 'continue_streak':\n",
    "            pass\n",
    "        elif new_streak == 'lose_streak' :\n",
    "            list_streaks.append(streak)\n",
    "            streak = 0\n",
    "        else:\n",
    "            streak = streak + new_streak\n",
    "        if new_streak2 == 'continue_streak' :\n",
    "            pass\n",
    "        elif new_streak2 == 'lose_streak':\n",
    "            list_streaks2.append(streak2)\n",
    "            streak2 = 0\n",
    "        else:\n",
    "            streak2 = streak2 + new_streak2"
   ]
  },
  {
   "cell_type": "code",
   "execution_count": 6,
   "metadata": {},
   "outputs": [
    {
     "data": {
      "image/png": "[encoded data removed]",
      "text/plain": [
       "<Figure size 432x288 with 1 Axes>"
      ]
     },
     "metadata": {
      "needs_background": "light"
     },
     "output_type": "display_data"
    }
   ],
   "source": [
    "plt.hist(list_streaks);"
   ]
  },
  {
   "cell_type": "code",
   "execution_count": 7,
   "metadata": {},
   "outputs": [
    {
     "data": {
      "text/plain": [
       "0     28851\n",
       "1     17359\n",
       "2     10119\n",
       "3      5937\n",
       "4      3580\n",
       "5      2082\n",
       "6      1217\n",
       "7       750\n",
       "8       458\n",
       "9       269\n",
       "10      175\n",
       "11       94\n",
       "12       60\n",
       "13       29\n",
       "14       23\n",
       "15       17\n",
       "17        7\n",
       "16        4\n",
       "18        4\n",
       "21        3\n",
       "19        1\n",
       "23        1\n",
       "dtype: int64"
      ]
     },
     "execution_count": 7,
     "metadata": {},
     "output_type": "execute_result"
    }
   ],
   "source": [
    "l_series = pd.Series(list_streaks).value_counts()\n",
    "l_series"
   ]
  },
  {
   "cell_type": "code",
   "execution_count": 10,
   "metadata": {},
   "outputs": [],
   "source": [
    "results = l_series.to_frame().reset_index()\n",
    "results.rename(columns={'index':'Streak',0:'number_of_times'},inplace=True)\n",
    "results['percentage'] = results['number_of_times'] / sum(results['number_of_times'])\n",
    "results.sort_values(by='Streak',inplace=True);"
   ]
  },
  {
   "cell_type": "code",
   "execution_count": 11,
   "metadata": {},
   "outputs": [
    {
     "data": {
      "text/html": [
       "<div>\n",
       "<style scoped>\n",
       "    .dataframe tbody tr th:only-of-type {\n",
       "        vertical-align: middle;\n",
       "    }\n",
       "\n",
       "    .dataframe tbody tr th {\n",
       "        vertical-align: top;\n",
       "    }\n",
       "\n",
       "    .dataframe thead th {\n",
       "        text-align: right;\n",
       "    }\n",
       "</style>\n",
       "<table border=\"1\" class=\"dataframe\">\n",
       "  <thead>\n",
       "    <tr style=\"text-align: right;\">\n",
       "      <th></th>\n",
       "      <th>Streak</th>\n",
       "      <th>number_of_times</th>\n",
       "      <th>percentage</th>\n",
       "    </tr>\n",
       "  </thead>\n",
       "  <tbody>\n",
       "    <tr>\n",
       "      <th>0</th>\n",
       "      <td>0</td>\n",
       "      <td>28851</td>\n",
       "      <td>0.406123</td>\n",
       "    </tr>\n",
       "    <tr>\n",
       "      <th>1</th>\n",
       "      <td>1</td>\n",
       "      <td>17359</td>\n",
       "      <td>0.244355</td>\n",
       "    </tr>\n",
       "    <tr>\n",
       "      <th>2</th>\n",
       "      <td>2</td>\n",
       "      <td>10119</td>\n",
       "      <td>0.142441</td>\n",
       "    </tr>\n",
       "    <tr>\n",
       "      <th>3</th>\n",
       "      <td>3</td>\n",
       "      <td>5937</td>\n",
       "      <td>0.083573</td>\n",
       "    </tr>\n",
       "    <tr>\n",
       "      <th>4</th>\n",
       "      <td>4</td>\n",
       "      <td>3580</td>\n",
       "      <td>0.050394</td>\n",
       "    </tr>\n",
       "    <tr>\n",
       "      <th>5</th>\n",
       "      <td>5</td>\n",
       "      <td>2082</td>\n",
       "      <td>0.029307</td>\n",
       "    </tr>\n",
       "    <tr>\n",
       "      <th>6</th>\n",
       "      <td>6</td>\n",
       "      <td>1217</td>\n",
       "      <td>0.017131</td>\n",
       "    </tr>\n",
       "    <tr>\n",
       "      <th>7</th>\n",
       "      <td>7</td>\n",
       "      <td>750</td>\n",
       "      <td>0.010557</td>\n",
       "    </tr>\n",
       "    <tr>\n",
       "      <th>8</th>\n",
       "      <td>8</td>\n",
       "      <td>458</td>\n",
       "      <td>0.006447</td>\n",
       "    </tr>\n",
       "    <tr>\n",
       "      <th>9</th>\n",
       "      <td>9</td>\n",
       "      <td>269</td>\n",
       "      <td>0.003787</td>\n",
       "    </tr>\n",
       "    <tr>\n",
       "      <th>10</th>\n",
       "      <td>10</td>\n",
       "      <td>175</td>\n",
       "      <td>0.002463</td>\n",
       "    </tr>\n",
       "    <tr>\n",
       "      <th>11</th>\n",
       "      <td>11</td>\n",
       "      <td>94</td>\n",
       "      <td>0.001323</td>\n",
       "    </tr>\n",
       "    <tr>\n",
       "      <th>12</th>\n",
       "      <td>12</td>\n",
       "      <td>60</td>\n",
       "      <td>0.000845</td>\n",
       "    </tr>\n",
       "    <tr>\n",
       "      <th>13</th>\n",
       "      <td>13</td>\n",
       "      <td>29</td>\n",
       "      <td>0.000408</td>\n",
       "    </tr>\n",
       "    <tr>\n",
       "      <th>14</th>\n",
       "      <td>14</td>\n",
       "      <td>23</td>\n",
       "      <td>0.000324</td>\n",
       "    </tr>\n",
       "    <tr>\n",
       "      <th>15</th>\n",
       "      <td>15</td>\n",
       "      <td>17</td>\n",
       "      <td>0.000239</td>\n",
       "    </tr>\n",
       "    <tr>\n",
       "      <th>17</th>\n",
       "      <td>16</td>\n",
       "      <td>4</td>\n",
       "      <td>0.000056</td>\n",
       "    </tr>\n",
       "    <tr>\n",
       "      <th>16</th>\n",
       "      <td>17</td>\n",
       "      <td>7</td>\n",
       "      <td>0.000099</td>\n",
       "    </tr>\n",
       "    <tr>\n",
       "      <th>18</th>\n",
       "      <td>18</td>\n",
       "      <td>4</td>\n",
       "      <td>0.000056</td>\n",
       "    </tr>\n",
       "    <tr>\n",
       "      <th>20</th>\n",
       "      <td>19</td>\n",
       "      <td>1</td>\n",
       "      <td>0.000014</td>\n",
       "    </tr>\n",
       "    <tr>\n",
       "      <th>19</th>\n",
       "      <td>21</td>\n",
       "      <td>3</td>\n",
       "      <td>0.000042</td>\n",
       "    </tr>\n",
       "    <tr>\n",
       "      <th>21</th>\n",
       "      <td>23</td>\n",
       "      <td>1</td>\n",
       "      <td>0.000014</td>\n",
       "    </tr>\n",
       "  </tbody>\n",
       "</table>\n",
       "</div>"
      ],
      "text/plain": [
       "    Streak  number_of_times  percentage\n",
       "0        0            28851    0.406123\n",
       "1        1            17359    0.244355\n",
       "2        2            10119    0.142441\n",
       "3        3             5937    0.083573\n",
       "4        4             3580    0.050394\n",
       "5        5             2082    0.029307\n",
       "6        6             1217    0.017131\n",
       "7        7              750    0.010557\n",
       "8        8              458    0.006447\n",
       "9        9              269    0.003787\n",
       "10      10              175    0.002463\n",
       "11      11               94    0.001323\n",
       "12      12               60    0.000845\n",
       "13      13               29    0.000408\n",
       "14      14               23    0.000324\n",
       "15      15               17    0.000239\n",
       "17      16                4    0.000056\n",
       "16      17                7    0.000099\n",
       "18      18                4    0.000056\n",
       "20      19                1    0.000014\n",
       "19      21                3    0.000042\n",
       "21      23                1    0.000014"
      ]
     },
     "execution_count": 11,
     "metadata": {},
     "output_type": "execute_result"
    }
   ],
   "source": [
    "results"
   ]
  },
  {
   "cell_type": "code",
   "execution_count": 13,
   "metadata": {},
   "outputs": [
    {
     "data": {
      "text/plain": [
       "0     73253\n",
       "2     24867\n",
       "4      8543\n",
       "6      2852\n",
       "1      1418\n",
       "8       967\n",
       "3       950\n",
       "5       474\n",
       "10      348\n",
       "7       247\n",
       "12      123\n",
       "9       112\n",
       "14       49\n",
       "11       33\n",
       "16       20\n",
       "13       11\n",
       "15        9\n",
       "17        4\n",
       "20        3\n",
       "22        2\n",
       "21        1\n",
       "dtype: int64"
      ]
     },
     "execution_count": 13,
     "metadata": {},
     "output_type": "execute_result"
    }
   ],
   "source": [
    "l_series2 = pd.Series(list_streaks2).value_counts()\n",
    "l_series2"
   ]
  },
  {
   "cell_type": "code",
   "execution_count": 12,
   "metadata": {},
   "outputs": [
    {
     "data": {
      "image/png": "[encoded data removed]",
      "text/plain": [
       "<Figure size 432x288 with 1 Axes>"
      ]
     },
     "metadata": {
      "needs_background": "light"
     },
     "output_type": "display_data"
    }
   ],
   "source": [
    "plt.hist(list_streaks2);"
   ]
  },
  {
   "cell_type": "code",
   "execution_count": 15,
   "metadata": {},
   "outputs": [
    {
     "data": {
      "text/html": [
       "<div>\n",
       "<style scoped>\n",
       "    .dataframe tbody tr th:only-of-type {\n",
       "        vertical-align: middle;\n",
       "    }\n",
       "\n",
       "    .dataframe tbody tr th {\n",
       "        vertical-align: top;\n",
       "    }\n",
       "\n",
       "    .dataframe thead th {\n",
       "        text-align: right;\n",
       "    }\n",
       "</style>\n",
       "<table border=\"1\" class=\"dataframe\">\n",
       "  <thead>\n",
       "    <tr style=\"text-align: right;\">\n",
       "      <th></th>\n",
       "      <th>Streak</th>\n",
       "      <th>number_of_times</th>\n",
       "      <th>percentage</th>\n",
       "    </tr>\n",
       "  </thead>\n",
       "  <tbody>\n",
       "    <tr>\n",
       "      <th>0</th>\n",
       "      <td>0</td>\n",
       "      <td>73253</td>\n",
       "      <td>0.640962</td>\n",
       "    </tr>\n",
       "    <tr>\n",
       "      <th>4</th>\n",
       "      <td>1</td>\n",
       "      <td>1418</td>\n",
       "      <td>0.012407</td>\n",
       "    </tr>\n",
       "    <tr>\n",
       "      <th>1</th>\n",
       "      <td>2</td>\n",
       "      <td>24867</td>\n",
       "      <td>0.217586</td>\n",
       "    </tr>\n",
       "    <tr>\n",
       "      <th>6</th>\n",
       "      <td>3</td>\n",
       "      <td>950</td>\n",
       "      <td>0.008312</td>\n",
       "    </tr>\n",
       "    <tr>\n",
       "      <th>2</th>\n",
       "      <td>4</td>\n",
       "      <td>8543</td>\n",
       "      <td>0.074751</td>\n",
       "    </tr>\n",
       "    <tr>\n",
       "      <th>7</th>\n",
       "      <td>5</td>\n",
       "      <td>474</td>\n",
       "      <td>0.004147</td>\n",
       "    </tr>\n",
       "    <tr>\n",
       "      <th>3</th>\n",
       "      <td>6</td>\n",
       "      <td>2852</td>\n",
       "      <td>0.024955</td>\n",
       "    </tr>\n",
       "    <tr>\n",
       "      <th>9</th>\n",
       "      <td>7</td>\n",
       "      <td>247</td>\n",
       "      <td>0.002161</td>\n",
       "    </tr>\n",
       "    <tr>\n",
       "      <th>5</th>\n",
       "      <td>8</td>\n",
       "      <td>967</td>\n",
       "      <td>0.008461</td>\n",
       "    </tr>\n",
       "    <tr>\n",
       "      <th>11</th>\n",
       "      <td>9</td>\n",
       "      <td>112</td>\n",
       "      <td>0.000980</td>\n",
       "    </tr>\n",
       "    <tr>\n",
       "      <th>8</th>\n",
       "      <td>10</td>\n",
       "      <td>348</td>\n",
       "      <td>0.003045</td>\n",
       "    </tr>\n",
       "    <tr>\n",
       "      <th>13</th>\n",
       "      <td>11</td>\n",
       "      <td>33</td>\n",
       "      <td>0.000289</td>\n",
       "    </tr>\n",
       "    <tr>\n",
       "      <th>10</th>\n",
       "      <td>12</td>\n",
       "      <td>123</td>\n",
       "      <td>0.001076</td>\n",
       "    </tr>\n",
       "    <tr>\n",
       "      <th>15</th>\n",
       "      <td>13</td>\n",
       "      <td>11</td>\n",
       "      <td>0.000096</td>\n",
       "    </tr>\n",
       "    <tr>\n",
       "      <th>12</th>\n",
       "      <td>14</td>\n",
       "      <td>49</td>\n",
       "      <td>0.000429</td>\n",
       "    </tr>\n",
       "    <tr>\n",
       "      <th>16</th>\n",
       "      <td>15</td>\n",
       "      <td>9</td>\n",
       "      <td>0.000079</td>\n",
       "    </tr>\n",
       "    <tr>\n",
       "      <th>14</th>\n",
       "      <td>16</td>\n",
       "      <td>20</td>\n",
       "      <td>0.000175</td>\n",
       "    </tr>\n",
       "    <tr>\n",
       "      <th>17</th>\n",
       "      <td>17</td>\n",
       "      <td>4</td>\n",
       "      <td>0.000035</td>\n",
       "    </tr>\n",
       "    <tr>\n",
       "      <th>18</th>\n",
       "      <td>20</td>\n",
       "      <td>3</td>\n",
       "      <td>0.000026</td>\n",
       "    </tr>\n",
       "    <tr>\n",
       "      <th>20</th>\n",
       "      <td>21</td>\n",
       "      <td>1</td>\n",
       "      <td>0.000009</td>\n",
       "    </tr>\n",
       "    <tr>\n",
       "      <th>19</th>\n",
       "      <td>22</td>\n",
       "      <td>2</td>\n",
       "      <td>0.000017</td>\n",
       "    </tr>\n",
       "  </tbody>\n",
       "</table>\n",
       "</div>"
      ],
      "text/plain": [
       "    Streak  number_of_times  percentage\n",
       "0        0            73253    0.640962\n",
       "4        1             1418    0.012407\n",
       "1        2            24867    0.217586\n",
       "6        3              950    0.008312\n",
       "2        4             8543    0.074751\n",
       "7        5              474    0.004147\n",
       "3        6             2852    0.024955\n",
       "9        7              247    0.002161\n",
       "5        8              967    0.008461\n",
       "11       9              112    0.000980\n",
       "8       10              348    0.003045\n",
       "13      11               33    0.000289\n",
       "10      12              123    0.001076\n",
       "15      13               11    0.000096\n",
       "12      14               49    0.000429\n",
       "16      15                9    0.000079\n",
       "14      16               20    0.000175\n",
       "17      17                4    0.000035\n",
       "18      20                3    0.000026\n",
       "20      21                1    0.000009\n",
       "19      22                2    0.000017"
      ]
     },
     "execution_count": 15,
     "metadata": {},
     "output_type": "execute_result"
    }
   ],
   "source": [
    "results = l_series2.to_frame().reset_index()\n",
    "results.rename(columns={'index':'Streak',0:'number_of_times'},inplace=True)\n",
    "results['percentage'] = results['number_of_times'] / sum(results['number_of_times'])\n",
    "results.sort_values(by='Streak',inplace=True);\n",
    "results"
   ]
  },
  {
   "cell_type": "code",
   "execution_count": 9,
   "metadata": {},
   "outputs": [
    {
     "name": "stdout",
     "output_type": "stream",
     "text": [
      "total number of streaks: 71461\n"
     ]
    }
   ],
   "source": [
    "print('total number of streaks:', sum(l_series))"
   ]
  }
 ],
 "metadata": {
  "kernelspec": {
   "display_name": "Python 3",
   "language": "python",
   "name": "python3"
  },
  "language_info": {
   "codemirror_mode": {
    "name": "ipython",
    "version": 3
   },
   "file_extension": ".py",
   "mimetype": "text/x-python",
   "name": "python",
   "nbconvert_exporter": "python",
   "pygments_lexer": "ipython3",
   "version": "3.6.8"
  }
 },
 "nbformat": 4,
 "nbformat_minor": 2
}
