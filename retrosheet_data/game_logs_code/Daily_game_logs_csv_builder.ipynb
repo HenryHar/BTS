{
 "cells": [
  {
   "cell_type": "markdown",
   "metadata": {},
   "source": [
    "## Creating the game_logs for the basic statistics for every player based on retrosheet data.\n",
    "\n",
    "I want to create a game_log sheet for every player in my data set. I realized this will help accelerate my backtesting. \n",
    "\n",
    "<br><br> The reason I am creating this file is that once I run the script once. I will just need to call the specific games to get the required information instead of generating it every time and not saving the results\n",
    "\n",
    "<br> https://www.baseball-reference.com/players/gl.fcgi?id=bautijo02&t=b&year=2014  <br><br> this is the ideal format except the CSV file created will have all the players. So far it works from 2005-2018. File might be hundreds of MB but that is OK.\n"
   ]
  },
  {
   "cell_type": "code",
   "execution_count": 1,
   "metadata": {},
   "outputs": [],
   "source": [
    "import pandas as pd\n",
    "import numpy as np\n",
    "import scipy.stats as st\n",
    "\n",
    "import warnings\n",
    "warnings.filterwarnings('ignore')\n",
    "\n",
    "d = pd.read_csv('../2005-2016_games.csv')\n",
    "d.rename(columns={'unknown':'double_header_flag'}, inplace=True)\n",
    "d['ab_flag'] = d.ab_flag.map({'F':0,'T':1})\n",
    "d.sh_flag = d.sh_flag.map({'F':0,'T':1})\n",
    "d.sf_flag = d.sf_flag.map({'F':0,'T':1})"
   ]
  },
  {
   "cell_type": "code",
   "execution_count": 2,
   "metadata": {},
   "outputs": [],
   "source": [
    "df = d.copy()"
   ]
  },
  {
   "cell_type": "code",
   "execution_count": 3,
   "metadata": {},
   "outputs": [],
   "source": [
    "#find me all the Plate Apperances as described by MLB rules\n",
    "AB_only = df[df.ab_flag == 1]\n",
    "\n",
    "event_flags = [14,15,16,17] #14 is BB 15 is IBB 16 is HBP 17 is interference\n",
    "BB_IBB_HBP_INT = df[df.event_type.isin(event_flags)]\n",
    "\n",
    "sac_hits = df[df.sh_flag ==1]\n",
    "\n",
    "sac_fly  = df[df.sf_flag ==1]\n",
    "\n",
    "#combine all the dataFrames into 1.\n",
    "new_df = AB_only.append(BB_IBB_HBP_INT)\n",
    "new_df = new_df.append(sac_hits)\n",
    "new_df = new_df.append(sac_fly)\n",
    "\n",
    "df = new_df.copy()"
   ]
  },
  {
   "cell_type": "code",
   "execution_count": 4,
   "metadata": {},
   "outputs": [],
   "source": [
    "hit_flags = [20,21,22,23]     #20 = single, 21= double, 22 = triple, 23 = homerun\n",
    "df.loc[df.event_type.isin(hit_flags), 'hit_flag'] = 1\n",
    "df.loc[df.event_type.isin(hit_flags) == False, 'hit_flag'] = 0\n",
    "\n",
    "#event_type 14 is BB, 15 is IBB, 16 is HBP, 17 is interference\n",
    "df.loc[df.event_type==14, 'BB'] = 1\n",
    "df.loc[df.event_type!=14, 'BB'] = 0\n",
    "\n",
    "df.loc[df.event_type==15, 'IBB'] = 1\n",
    "df.loc[df.event_type!=15, 'IBB'] = 0\n",
    "\n",
    "df.loc[df.event_type==16, 'HBP'] = 1\n",
    "df.loc[df.event_type!=16, 'HBP'] = 0\n",
    "\n",
    "df.loc[df.event_type==17, 'ITF'] = 1\n",
    "df.loc[df.event_type!=17, 'ITF'] = 0\n",
    "\n",
    "df.loc[df.event_type==20, '1B'] = 1\n",
    "df.loc[df.event_type!=20, '1B'] = 0\n",
    "\n",
    "df.loc[df.event_type==21, '2B'] = 1\n",
    "df.loc[df.event_type!=21, '2B'] = 0\n",
    "\n",
    "df.loc[df.event_type==22, '3B'] = 1\n",
    "df.loc[df.event_type!=22, '3B'] = 0\n",
    "\n",
    "df.loc[df.event_type==23, 'HR'] = 1\n",
    "df.loc[df.event_type!=23, 'HR'] = 0"
   ]
  },
  {
   "cell_type": "code",
   "execution_count": 5,
   "metadata": {},
   "outputs": [],
   "source": [
    "data_grouped = df.groupby(['game_id','year','month','day','res_batter'])\n",
    "\n",
    "#probably need to change game_id to double_header_flag that way but for now keep since you can just copy paste game_id on google and find the right game"
   ]
  },
  {
   "cell_type": "code",
   "execution_count": 6,
   "metadata": {},
   "outputs": [],
   "source": [
    "# now that everything is seperated by game_id, 'year', 'month', 'day' and 'batter name' aggregate the stats\n",
    "batting_summary = data_grouped.agg({'hit_flag':[np.sum, np.size],'ab_flag':[np.sum],'BB':np.sum,'IBB':np.sum,'HBP':np.sum,'ITF':np.sum,'1B':np.sum,'2B':np.sum,'3B':np.sum,'HR':np.sum,'sh_flag':np.sum,'sf_flag':np.sum})"
   ]
  },
  {
   "cell_type": "code",
   "execution_count": 7,
   "metadata": {},
   "outputs": [],
   "source": [
    "#Just some cleaning\n",
    "batting_hits_pa = batting_summary.hit_flag\n",
    "batting_hits_pa.rename(columns={'sum':'H','size':'PA'}, inplace=True)\n",
    "\n",
    "\n",
    "batting_ab = batting_summary.ab_flag\n",
    "batting_ab.rename(columns={'sum':'AB'}, inplace=True)\n",
    "\n",
    "batting_BB  = batting_summary.BB\n",
    "batting_BB.rename(columns={'sum':'BB'}, inplace=True)\n",
    "\n",
    "batting_IBB = batting_summary.IBB\n",
    "batting_IBB.rename(columns={'sum':'IBB'}, inplace=True)\n",
    "\n",
    "batting_HBP = batting_summary.HBP\n",
    "batting_HBP.rename(columns={'sum':'HBP'}, inplace=True)\n",
    "\n",
    "batting_ITF = batting_summary.ITF\n",
    "batting_ITF.rename(columns={'sum':'ITF'}, inplace=True)\n",
    "\n",
    "batting_1B = batting_summary['1B']\n",
    "batting_1B.rename(columns={'sum':'1B'}, inplace=True)\n",
    "\n",
    "batting_2B = batting_summary['2B']\n",
    "batting_2B.rename(columns={'sum':'2B'}, inplace=True)\n",
    "\n",
    "batting_3B = batting_summary['3B']\n",
    "batting_3B.rename(columns={'sum':'3B'}, inplace=True)\n",
    "\n",
    "batting_HR = batting_summary.HR\n",
    "batting_HR.rename(columns={'sum':'HR'}, inplace=True)\n",
    "\n",
    "batting_SH = batting_summary.sh_flag\n",
    "batting_SH.rename(columns={'sum':'SH'}, inplace=True)\n",
    "\n",
    "batting_SF = batting_summary.sf_flag\n",
    "batting_SF.rename(columns={'sum':'SF'}, inplace=True)\n",
    "\n",
    "\n",
    "#now combine all the smaller dataframes\n",
    "batting_summary = pd.concat([batting_hits_pa,batting_ab,batting_BB,batting_IBB,batting_HBP,batting_ITF,batting_1B,batting_2B,batting_3B,batting_HR,batting_SH,batting_SF], axis =1)\n",
    "\n",
    "batting_summary.sort_values(by=['res_batter','year','month','day','game_id'],inplace=True)\n",
    "\n",
    "#calculate BA and OBP: BA = H / AB, OBP = (H + BB + IBB + HBP)/ (AB + BB + IBB + HBP + SF )\n",
    "batting_summary['BA'] = batting_summary.groupby(['res_batter','year'])['H'].transform(pd.Series.cumsum) / batting_summary.groupby(['res_batter','year'])['AB'].transform(pd.Series.cumsum)\n",
    "batting_summary['OBP'] = (batting_summary.groupby(['res_batter','year'])['H'].transform(pd.Series.cumsum) + batting_summary.groupby(['res_batter','year'])['BB'].transform(pd.Series.cumsum) + batting_summary.groupby(['res_batter','year'])['IBB'].transform(pd.Series.cumsum) + batting_summary.groupby(['res_batter','year'])['HBP'].transform(pd.Series.cumsum) ) / (batting_summary.groupby(['res_batter','year'])['AB'].transform(pd.Series.cumsum) + batting_summary.groupby(['res_batter','year'])['BB'].transform(pd.Series.cumsum) + batting_summary.groupby(['res_batter','year'])['IBB'].transform(pd.Series.cumsum) + batting_summary.groupby(['res_batter','year'])['HBP'].transform(pd.Series.cumsum) + batting_summary.groupby(['res_batter','year'])['SF'].transform(pd.Series.cumsum))\n",
    "\n",
    "#calculate player's cumulative Hits to each day in the season, as well as his H/PA\n",
    "batting_summary['H_cum_season'] = batting_summary.groupby(['res_batter','year'])['H'].transform(pd.Series.cumsum)\n",
    "batting_summary['H/PA_seasonal'] =  batting_summary.groupby(['res_batter','year'])['H'].transform(pd.Series.cumsum) / batting_summary.groupby(['res_batter','year'])['PA'].transform(pd.Series.cumsum)\n",
    "batting_summary['PA_cum_season'] = batting_summary.groupby(['res_batter','year']).PA.transform(pd.Series.cumsum)\n",
    "batting_summary['AB_cum_season'] = batting_summary.groupby(['res_batter','year']).AB.transform(pd.Series.cumsum)\n",
    "\n",
    "\n",
    "#for each game the player plays in a season... write down his game count. also calculate H/seasonal_game_played\n",
    "batting_summary['seasonal_game_played']= batting_summary.groupby(['res_batter','year']).cumcount()+1\n",
    "batting_summary['H/seasonal_game_played'] = batting_summary.groupby(['res_batter','year'])['H'].transform(pd.Series.cumsum) / batting_summary.seasonal_game_played\n",
    "\n",
    "# write down each player's career game count : career_game_played\n",
    "batting_summary['career_game_played'] = batting_summary.groupby(['res_batter']).cumcount()+1\n",
    "\n",
    "#career statistics\n",
    "batting_summary['AB_cum_car'] = batting_summary.groupby(['res_batter']).AB.transform(pd.Series.cumsum)\n",
    "batting_summary['H_cum_car'] = batting_summary.groupby(['res_batter']).H.transform(pd.Series.cumsum)\n",
    "batting_summary['BA_car'] = batting_summary['H_cum_car'] / batting_summary['AB_cum_car']\n",
    "batting_summary['PA_car'] = batting_summary.groupby(['res_batter']).PA.transform(pd.Series.cumsum)\n",
    "batting_summary['H/PA_car'] = batting_summary['H_cum_car'] / batting_summary['PA_car']\n",
    "batting_summary['H/career_game_played'] = batting_summary['H_cum_car'] / batting_summary['career_game_played']\n",
    "\n",
    "batting_summary.reset_index(inplace=True)"
   ]
  },
  {
   "cell_type": "code",
   "execution_count": 8,
   "metadata": {},
   "outputs": [
    {
     "name": "stdout",
     "output_type": "stream",
     "text": [
      "Wall time: 53.9 s\n"
     ]
    }
   ],
   "source": [
    "%%time\n",
    "batting_summary['H_rolling_5d']    = batting_summary.groupby(['res_batter','year'])['H'].apply(lambda g: g.rolling(5).sum())\n",
    "batting_summary['AB_rolling_5d']   = batting_summary.groupby(['res_batter','year'])['AB'].apply(lambda g: g.rolling(5).sum())\n",
    "batting_summary['BA_rolling_5d']   = batting_summary.H_rolling_5d / batting_summary.AB_rolling_5d\n",
    "batting_summary['PA_rolling_5d']   = batting_summary.groupby(['res_batter','year'])['PA'].apply(lambda g: g.rolling(5).sum())\n",
    "batting_summary['H/PA_rolling_5d'] = batting_summary.H_rolling_5d / batting_summary.PA_rolling_5d\n",
    "\n",
    "batting_summary['H_rolling_10d'] = batting_summary.groupby(['res_batter','year'])['H'].apply(lambda g: g.rolling(10).sum())\n",
    "batting_summary['AB_rolling_10d'] = batting_summary.groupby(['res_batter','year'])['AB'].apply(lambda g: g.rolling(10).sum())\n",
    "batting_summary['BA_rolling_10d'] = batting_summary.H_rolling_10d / batting_summary.AB_rolling_10d\n",
    "batting_summary['PA_rolling_10d'] = batting_summary.groupby(['res_batter','year']).PA.apply(lambda g: g.rolling(10).sum())\n",
    "batting_summary['H/PA_rolling_10d'] = batting_summary.H_rolling_10d / batting_summary.PA_rolling_10d\n",
    "\n",
    "batting_summary['H_rolling_30d'] = batting_summary.groupby(['res_batter','year']).H.apply(lambda g: g.rolling(30).sum())\n",
    "batting_summary['AB_rolling_30d'] = batting_summary.groupby(['res_batter','year']).AB.apply(lambda g: g.rolling(30).sum())\n",
    "batting_summary['BA_rolling_30d'] = batting_summary['H_rolling_30d'] / batting_summary['AB_rolling_30d']\n",
    "batting_summary['PA_rolling_30d'] = batting_summary.groupby(['res_batter','year']).PA.apply(lambda g: g.rolling(30).sum())\n",
    "batting_summary['H/PA_rolling_30d'] = batting_summary.H_rolling_30d/batting_summary.PA_rolling_30d"
   ]
  },
  {
   "cell_type": "code",
   "execution_count": 9,
   "metadata": {},
   "outputs": [
    {
     "name": "stdout",
     "output_type": "stream",
     "text": [
      "Complete\n",
      "Wall time: 7.38 s\n"
     ]
    }
   ],
   "source": [
    "%%time\n",
    "# Standard Error for a proportion = sqrt( p * q / n )\n",
    "# What is a batter's 'True' BA? it is mean +- z_score * Standard Error\n",
    "\n",
    "#season\n",
    "p_season = batting_summary.BA\n",
    "n_season = batting_summary.AB_cum_season\n",
    "batting_summary['BA_SE_season'] = np.sqrt(p_season * (1-p_season) / n_season)\n",
    "\n",
    "#career\n",
    "p_car = (batting_summary.BA_car)\n",
    "n_car = batting_summary['AB_cum_car']\n",
    "\n",
    "batting_summary['BA_SE_car'] = np.sqrt((p_car * (1-p_car) / n_car))#.apply(np.sqrt)\n",
    "\n",
    "percentile = 0.975     #this represents a 95% Confidence Intervall\n",
    "crit_value_z = st.norm.ppf(percentile)\n",
    "#True statistic bounds: general formula is mean +- z_score * Standard error, use t_score when n<=30\n",
    "\n",
    "#seasonal\n",
    "batting_summary.loc[batting_summary['seasonal_game_played']<=30,'BA_lower_CI'] = batting_summary['BA'] - st.t.ppf(percentile,df=batting_summary['seasonal_game_played'] - 1) * batting_summary['BA_SE_season']\n",
    "batting_summary.loc[batting_summary['seasonal_game_played']<=30,'BA_upper_CI'] = batting_summary['BA'] + st.t.ppf(percentile,df=batting_summary['seasonal_game_played'] - 1) * batting_summary['BA_SE_season']\n",
    "\n",
    "batting_summary.loc[batting_summary['seasonal_game_played']>30 ,'BA_lower_CI'] = batting_summary['BA'] - crit_value_z * batting_summary['BA_SE_season']\n",
    "batting_summary.loc[batting_summary['seasonal_game_played']>30 ,'BA_upper_CI'] = batting_summary['BA'] + crit_value_z * batting_summary['BA_SE_season']\n",
    "\n",
    "#career\n",
    "batting_summary.loc[batting_summary['career_game_played']<=30,'BA_lower_CI_car'] = batting_summary['BA_car'] - st.t.ppf(percentile,df=batting_summary['career_game_played'] - 1) * batting_summary['BA_SE_car']\n",
    "batting_summary.loc[batting_summary['career_game_played']<=30,'BA_upper_CI_car'] = batting_summary['BA_car'] + st.t.ppf(percentile,df=batting_summary['career_game_played'] - 1) * batting_summary['BA_SE_car']\n",
    "\n",
    "batting_summary.loc[batting_summary['career_game_played']>30,'BA_lower_CI_car'] = batting_summary['BA_car'] - crit_value_z * batting_summary['BA_SE_car']\n",
    "batting_summary.loc[batting_summary['career_game_played']>30,'BA_upper_CI_car'] = batting_summary['BA_car'] + crit_value_z * batting_summary['BA_SE_car'] \n",
    "\n",
    "print('Complete')"
   ]
  },
  {
   "cell_type": "code",
   "execution_count": 10,
   "metadata": {
    "scrolled": false
   },
   "outputs": [
    {
     "data": {
      "text/html": [
       "<div>\n",
       "<style scoped>\n",
       "    .dataframe tbody tr th:only-of-type {\n",
       "        vertical-align: middle;\n",
       "    }\n",
       "\n",
       "    .dataframe tbody tr th {\n",
       "        vertical-align: top;\n",
       "    }\n",
       "\n",
       "    .dataframe thead th {\n",
       "        text-align: right;\n",
       "    }\n",
       "</style>\n",
       "<table border=\"1\" class=\"dataframe\">\n",
       "  <thead>\n",
       "    <tr style=\"text-align: right;\">\n",
       "      <th></th>\n",
       "      <th>game_id</th>\n",
       "      <th>year</th>\n",
       "      <th>month</th>\n",
       "      <th>day</th>\n",
       "      <th>res_batter</th>\n",
       "      <th>H</th>\n",
       "      <th>PA</th>\n",
       "      <th>AB</th>\n",
       "      <th>BB</th>\n",
       "      <th>IBB</th>\n",
       "      <th>...</th>\n",
       "      <th>AB_rolling_30d</th>\n",
       "      <th>BA_rolling_30d</th>\n",
       "      <th>PA_rolling_30d</th>\n",
       "      <th>H/PA_rolling_30d</th>\n",
       "      <th>BA_SE_season</th>\n",
       "      <th>BA_SE_car</th>\n",
       "      <th>BA_lower_CI</th>\n",
       "      <th>BA_upper_CI</th>\n",
       "      <th>BA_lower_CI_car</th>\n",
       "      <th>BA_upper_CI_car</th>\n",
       "    </tr>\n",
       "  </thead>\n",
       "  <tbody>\n",
       "    <tr>\n",
       "      <th>31332</th>\n",
       "      <td>TBA201004250</td>\n",
       "      <td>2010</td>\n",
       "      <td>4</td>\n",
       "      <td>25</td>\n",
       "      <td>bautj002</td>\n",
       "      <td>1.0</td>\n",
       "      <td>3.0</td>\n",
       "      <td>3</td>\n",
       "      <td>0.0</td>\n",
       "      <td>0.0</td>\n",
       "      <td>...</td>\n",
       "      <td>NaN</td>\n",
       "      <td>NaN</td>\n",
       "      <td>NaN</td>\n",
       "      <td>NaN</td>\n",
       "      <td>0.050807</td>\n",
       "      <td>0.010250</td>\n",
       "      <td>0.125142</td>\n",
       "      <td>0.338626</td>\n",
       "      <td>0.219680</td>\n",
       "      <td>0.259859</td>\n",
       "    </tr>\n",
       "    <tr>\n",
       "      <th>31392</th>\n",
       "      <td>CLE201007010</td>\n",
       "      <td>2010</td>\n",
       "      <td>7</td>\n",
       "      <td>1</td>\n",
       "      <td>bautj002</td>\n",
       "      <td>1.0</td>\n",
       "      <td>4.0</td>\n",
       "      <td>4</td>\n",
       "      <td>0.0</td>\n",
       "      <td>0.0</td>\n",
       "      <td>...</td>\n",
       "      <td>100.0</td>\n",
       "      <td>0.200000</td>\n",
       "      <td>122.0</td>\n",
       "      <td>0.163934</td>\n",
       "      <td>0.025516</td>\n",
       "      <td>0.009683</td>\n",
       "      <td>0.178772</td>\n",
       "      <td>0.278793</td>\n",
       "      <td>0.219534</td>\n",
       "      <td>0.257492</td>\n",
       "    </tr>\n",
       "    <tr>\n",
       "      <th>31474</th>\n",
       "      <td>MIN201010030</td>\n",
       "      <td>2010</td>\n",
       "      <td>10</td>\n",
       "      <td>3</td>\n",
       "      <td>bautj002</td>\n",
       "      <td>0.0</td>\n",
       "      <td>4.0</td>\n",
       "      <td>4</td>\n",
       "      <td>0.0</td>\n",
       "      <td>0.0</td>\n",
       "      <td>...</td>\n",
       "      <td>107.0</td>\n",
       "      <td>0.224299</td>\n",
       "      <td>127.0</td>\n",
       "      <td>0.188976</td>\n",
       "      <td>0.018391</td>\n",
       "      <td>0.009100</td>\n",
       "      <td>0.224060</td>\n",
       "      <td>0.296151</td>\n",
       "      <td>0.227355</td>\n",
       "      <td>0.263025</td>\n",
       "    </tr>\n",
       "    <tr>\n",
       "      <th>31358</th>\n",
       "      <td>ARI201005220</td>\n",
       "      <td>2010</td>\n",
       "      <td>5</td>\n",
       "      <td>22</td>\n",
       "      <td>bautj002</td>\n",
       "      <td>0.0</td>\n",
       "      <td>3.0</td>\n",
       "      <td>3</td>\n",
       "      <td>0.0</td>\n",
       "      <td>0.0</td>\n",
       "      <td>...</td>\n",
       "      <td>106.0</td>\n",
       "      <td>0.245283</td>\n",
       "      <td>121.0</td>\n",
       "      <td>0.214876</td>\n",
       "      <td>0.033643</td>\n",
       "      <td>0.009993</td>\n",
       "      <td>0.171561</td>\n",
       "      <td>0.303439</td>\n",
       "      <td>0.220283</td>\n",
       "      <td>0.259454</td>\n",
       "    </tr>\n",
       "    <tr>\n",
       "      <th>31449</th>\n",
       "      <td>TOR201009060</td>\n",
       "      <td>2010</td>\n",
       "      <td>9</td>\n",
       "      <td>6</td>\n",
       "      <td>bautj002</td>\n",
       "      <td>0.0</td>\n",
       "      <td>4.0</td>\n",
       "      <td>3</td>\n",
       "      <td>1.0</td>\n",
       "      <td>0.0</td>\n",
       "      <td>...</td>\n",
       "      <td>100.0</td>\n",
       "      <td>0.280000</td>\n",
       "      <td>130.0</td>\n",
       "      <td>0.215385</td>\n",
       "      <td>0.020187</td>\n",
       "      <td>0.009296</td>\n",
       "      <td>0.224586</td>\n",
       "      <td>0.303716</td>\n",
       "      <td>0.227230</td>\n",
       "      <td>0.263671</td>\n",
       "    </tr>\n",
       "  </tbody>\n",
       "</table>\n",
       "<p>5 rows × 54 columns</p>\n",
       "</div>"
      ],
      "text/plain": [
       "            game_id  year  month  day res_batter    H   PA  AB   BB  IBB  ...  \\\n",
       "31332  TBA201004250  2010      4   25   bautj002  1.0  3.0   3  0.0  0.0  ...   \n",
       "31392  CLE201007010  2010      7    1   bautj002  1.0  4.0   4  0.0  0.0  ...   \n",
       "31474  MIN201010030  2010     10    3   bautj002  0.0  4.0   4  0.0  0.0  ...   \n",
       "31358  ARI201005220  2010      5   22   bautj002  0.0  3.0   3  0.0  0.0  ...   \n",
       "31449  TOR201009060  2010      9    6   bautj002  0.0  4.0   3  1.0  0.0  ...   \n",
       "\n",
       "       AB_rolling_30d  BA_rolling_30d  PA_rolling_30d  H/PA_rolling_30d  \\\n",
       "31332             NaN             NaN             NaN               NaN   \n",
       "31392           100.0        0.200000           122.0          0.163934   \n",
       "31474           107.0        0.224299           127.0          0.188976   \n",
       "31358           106.0        0.245283           121.0          0.214876   \n",
       "31449           100.0        0.280000           130.0          0.215385   \n",
       "\n",
       "       BA_SE_season  BA_SE_car  BA_lower_CI  BA_upper_CI  BA_lower_CI_car  \\\n",
       "31332      0.050807   0.010250     0.125142     0.338626         0.219680   \n",
       "31392      0.025516   0.009683     0.178772     0.278793         0.219534   \n",
       "31474      0.018391   0.009100     0.224060     0.296151         0.227355   \n",
       "31358      0.033643   0.009993     0.171561     0.303439         0.220283   \n",
       "31449      0.020187   0.009296     0.224586     0.303716         0.227230   \n",
       "\n",
       "       BA_upper_CI_car  \n",
       "31332         0.259859  \n",
       "31392         0.257492  \n",
       "31474         0.263025  \n",
       "31358         0.259454  \n",
       "31449         0.263671  \n",
       "\n",
       "[5 rows x 54 columns]"
      ]
     },
     "execution_count": 10,
     "metadata": {},
     "output_type": "execute_result"
    }
   ],
   "source": [
    "batting_summary.query('res_batter==\"bautj002\" and year == 2010').sample(5)"
   ]
  },
  {
   "cell_type": "code",
   "execution_count": 11,
   "metadata": {},
   "outputs": [],
   "source": [
    "# We got what we want, we can now save the dataframe\n",
    "batting_summary.to_csv('../2005-2016_game_logs.csv',index=None)"
   ]
  },
  {
   "cell_type": "code",
   "execution_count": null,
   "metadata": {},
   "outputs": [],
   "source": [
    "df2 = pd.read_csv('../2005-2016_game_logs.csv')"
   ]
  },
  {
   "cell_type": "code",
   "execution_count": null,
   "metadata": {},
   "outputs": [],
   "source": [
    "df2.sample(4).head()"
   ]
  },
  {
   "cell_type": "markdown",
   "metadata": {},
   "source": [
    "## Running Tests\n",
    "\n",
    "We can run tests on the code and verify the results by comparing them to the information on a reputable website: baseball-reference.com\n",
    "\n",
    "<br> To do this we will pick a year, here I've chosen 2006 but this can easily be changed\n",
    "\n",
    "<br> Next we will randomly pick a batter and visit his website and manually check the numbers"
   ]
  },
  {
   "cell_type": "code",
   "execution_count": null,
   "metadata": {},
   "outputs": [],
   "source": [
    "yearly_batting_summary = batting_summary.groupby('year')"
   ]
  },
  {
   "cell_type": "code",
   "execution_count": null,
   "metadata": {},
   "outputs": [],
   "source": [
    "df2006 = yearly_batting_summary.get_group(2006)"
   ]
  },
  {
   "cell_type": "markdown",
   "metadata": {},
   "source": [
    "### Case 1: Checking Hits, AB, and PA"
   ]
  },
  {
   "cell_type": "code",
   "execution_count": null,
   "metadata": {},
   "outputs": [],
   "source": [
    "import random\n",
    "#batter = random.sample(set(df2006.res_batter),1)\n",
    "batter =['suzui001']\n",
    "print(batter)\n",
    "\n",
    "df2006[df2006.res_batter == batter[0]].H.sum(), df2006[df2006.res_batter == batter[0]].AB.sum(), df2006[df2006.res_batter == batter[0]].PA.sum()"
   ]
  },
  {
   "cell_type": "markdown",
   "metadata": {},
   "source": [
    "The chosen batter is 'suzui001' which is Ichiro Suzuki (https://www.retrosheet.org/boxesetc/S/Psuzui001.htm) <br><br> We can check his 2006 stats by following this link: https://www.baseball-reference.com/players/gl.fcgi?id=suzukic01&t=b&year=2006\n",
    "<br><br>By scrolling to the bottom of the web-page, we can see that he had exactly 752 Plate appearances, 695 AB and 224 Hits which corresponds to the data we obtained"
   ]
  },
  {
   "cell_type": "markdown",
   "metadata": {},
   "source": [
    "### Case 2: Checking BB, IBB and HBP,"
   ]
  },
  {
   "cell_type": "code",
   "execution_count": null,
   "metadata": {},
   "outputs": [],
   "source": [
    "df2006[df2006.res_batter == batter[0]].BB.sum(),df2006[df2006.res_batter == batter[0]].IBB.sum(),df2006[df2006.res_batter == batter[0]].HBP.sum()"
   ]
  },
  {
   "cell_type": "markdown",
   "metadata": {},
   "source": [
    "Checking his Walks, Intentional Walks and Hit by Pitch on baseball-reference we can see that he has 51 Walks, with 1 intentional walks and 6 Hit by Pitches. <br><br>I've double checked the game date below and I can confirm that baseball-reference counts the Intentional walks in the Walks Columns which is why they have it at 51 (50 normal walks + 1 intentional walks) instead of 50"
   ]
  },
  {
   "cell_type": "code",
   "execution_count": null,
   "metadata": {},
   "outputs": [],
   "source": [
    "df2006.query('res_batter ==\"suzui001\" and month==7 and day ==31')[['game_id','year','month','day','res_batter','BB','IBB']]"
   ]
  },
  {
   "cell_type": "code",
   "execution_count": null,
   "metadata": {},
   "outputs": [],
   "source": [
    "df.query('year==2006 and res_batter ==\"suzui001\" and month==7 and day ==31')"
   ]
  },
  {
   "cell_type": "markdown",
   "metadata": {},
   "source": [
    "## Case 3: Checking his BA and OBP"
   ]
  },
  {
   "cell_type": "code",
   "execution_count": null,
   "metadata": {},
   "outputs": [],
   "source": [
    "df2006[df2006.res_batter==batter[0]].sample(3)[['game_id','year','month','day','BA','OBP']]"
   ]
  },
  {
   "cell_type": "markdown",
   "metadata": {},
   "source": [
    "https://www.baseball-reference.com/players/gl.fcgi?id=suzukic01&t=b&year=2006\n",
    "<br><br>On July 17, 2006 Ichiro's BA was .340 and OBP was .395        : pass\n",
    "<br>On  April 7, 2006: Ichiro's BA was .286 and OBP was .375 : pass\n",
    "<br>On April 23, 2006: Ichiro's BA was .253 and OBP was .333      : pass"
   ]
  }
 ],
 "metadata": {
  "kernelspec": {
   "display_name": "Python 3",
   "language": "python",
   "name": "python3"
  },
  "language_info": {
   "codemirror_mode": {
    "name": "ipython",
    "version": 3
   },
   "file_extension": ".py",
   "mimetype": "text/x-python",
   "name": "python",
   "nbconvert_exporter": "python",
   "pygments_lexer": "ipython3",
   "version": "3.6.8"
  }
 },
 "nbformat": 4,
 "nbformat_minor": 2
}
