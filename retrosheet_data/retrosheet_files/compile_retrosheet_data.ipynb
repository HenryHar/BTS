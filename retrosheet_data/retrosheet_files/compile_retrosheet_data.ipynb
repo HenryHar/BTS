{
 "cells": [
  {
   "cell_type": "markdown",
   "metadata": {},
   "source": [
    "## The goal of this file is to compile and quickly check the retrosheet data\n",
    "\n",
    "April 7, 2019: Created file and compiled data from 2010 to 2018\n",
    "<br>April 16 2019 edits: Organized the data, cleaned everything. changed year from 2005 to 2018"
   ]
  },
  {
   "cell_type": "code",
   "execution_count": 1,
   "metadata": {},
   "outputs": [],
   "source": [
    "import pandas as pd\n",
    "import os\n",
    "import numpy as np"
   ]
  },
  {
   "cell_type": "code",
   "execution_count": 2,
   "metadata": {},
   "outputs": [],
   "source": [
    "headers = ['game_id','away_team','inning','batting_team','outs','balls','strikes','vis_score','home_score','res_batter','res_batter_hand','res_pitcher','res_pitcher_hand','first_runner','second_runner','third_runner','event_text','leadoff_flag','pinchhit_flag','defensive_position','lineup_position','event_type','batter_event_flag','ab_flag','hit_value','sh_flag','sf_flag','outs_on_play','rbi_on_play','wild_pitch_flag','passed_ball_flag','num_errors','batter_dest','runner_on_1st_dest','runner_on_2nd_dest','runner_on_3rd_dest']"
   ]
  },
  {
   "cell_type": "code",
   "execution_count": 3,
   "metadata": {},
   "outputs": [],
   "source": [
    "teams = ['ANA','ARI','ATL','BAL','BOS','CHA','CHN','CIN','CLE','COL','DET','FLO','MIA',\n",
    "        'HOU','KCA','LAN','MIL','MIN','NYA','NYN','OAK','PHI','PIT','SDN','SEA',\n",
    "        'SFN','SLN','TBA','TEX','TOR','WAS']\n",
    "\n",
    "years = np.arange(2005,2018+1,1)\n",
    "\n",
    "for year in years:\n",
    "    for team in teams:\n",
    "        team_yr = str(year) + team\n",
    "        os.system('BEVENT -y ' + str(year) + ' ' +team_yr+'.eva > ../csv_files/'+ team_yr +'.txt')\n",
    "        if os.stat('../csv_files/'+team_yr+'.txt').st_size ==0:\n",
    "            os.system('BEVENT -y ' + str(year) + ' ' +team_yr+'.evn > ../csv_files/'+ team_yr +'.txt')\n",
    "#FLORIDA ONLY FROM 2010 TO 2011\n",
    "#THEN BECOMES MIA\n",
    "#BEVENT -y 2010 2010BOS.eva > 2010BOS.txt     this is the standard line of code that you need to run off cmd.exe\n",
    "# https://www.retrosheet.org/datause.txt"
   ]
  },
  {
   "cell_type": "code",
   "execution_count": 4,
   "metadata": {},
   "outputs": [],
   "source": [
    "# got all the csv files,\n",
    "#now im going to test their validity... so i will append each team's then do .groupby('date') then len() it should b 81 x 14 years \n",
    "# except for FLO and MIA"
   ]
  },
  {
   "cell_type": "markdown",
   "metadata": {},
   "source": [
    "## Check to have all games: \n",
    "\n",
    "each team should print out 81 * 14 or 1134.. in certain instances teams played 1 or less games at home thats fine. In 2012 FLO changed to MIA"
   ]
  },
  {
   "cell_type": "code",
   "execution_count": 5,
   "metadata": {},
   "outputs": [
    {
     "name": "stderr",
     "output_type": "stream",
     "text": [
      "C:\\ProgramData\\Anaconda3\\lib\\site-packages\\pandas\\core\\frame.py:6692: FutureWarning: Sorting because non-concatenation axis is not aligned. A future version\n",
      "of pandas will change to not sort by default.\n",
      "\n",
      "To accept the future behavior, pass 'sort=False'.\n",
      "\n",
      "To retain the current behavior and silence the warning, pass 'sort=True'.\n",
      "\n",
      "  sort=sort)\n"
     ]
    },
    {
     "name": "stdout",
     "output_type": "stream",
     "text": [
      "TeamANA lenght 1134\n",
      "TeamARI lenght 1134\n",
      "TeamATL lenght 1134\n",
      "TeamBAL lenght 1133\n",
      "TeamBOS lenght 1134\n",
      "TeamCHA lenght 1135\n",
      "TeamCHN lenght 1134\n",
      "TeamCIN lenght 1135\n",
      "TeamCLE lenght 1132\n",
      "TeamCOL lenght 1135\n",
      "TeamDET lenght 1133\n",
      "TeamFLO lenght 567\n",
      "TeamMIA lenght 566\n",
      "TeamHOU lenght 1133\n",
      "TeamKCA lenght 1134\n",
      "TeamLAN lenght 1135\n",
      "TeamMIL lenght 1134\n",
      "TeamMIN lenght 1135\n",
      "TeamNYA lenght 1134\n",
      "TeamNYN lenght 1134\n",
      "TeamOAK lenght 1134\n",
      "TeamPHI lenght 1134\n",
      "TeamPIT lenght 1133\n",
      "TeamSDN lenght 1134\n",
      "TeamSEA lenght 1135\n",
      "TeamSFN lenght 1134\n",
      "TeamSLN lenght 1133\n",
      "TeamTBA lenght 1134\n",
      "TeamTEX lenght 1135\n",
      "TeamTOR lenght 1134\n",
      "TeamWAS lenght 1132\n"
     ]
    }
   ],
   "source": [
    "teams = ['ANA','ARI','ATL','BAL','BOS','CHA','CHN','CIN','CLE','COL','DET','FLO','MIA',\n",
    "        'HOU','KCA','LAN','MIL','MIN','NYA','NYN','OAK','PHI','PIT','SDN','SEA',\n",
    "        'SFN','SLN','TBA','TEX','TOR','WAS']\n",
    "\n",
    "years = np.arange(2005,2018+1,1)\n",
    "\n",
    "for team in teams:\n",
    "    year = 2005\n",
    "    team_yr = str(year) + team\n",
    "    df= pd.read_csv('../csv_files/'+str(team_yr)+'.txt', header=None, names=headers)\n",
    "    df['home_team_add'] = team\n",
    "    mega = df.copy()\n",
    "    for year in years:\n",
    "        team_yr = str(year) + team\n",
    "        df1 = pd.read_csv('../csv_files/'+str(team_yr)+'.txt', header=None, names=headers)\n",
    "        mega = mega.append(df1)\n",
    "    \n",
    "    \n",
    "    print('Team' + team +' lenght '+ str(len(mega.groupby('game_id'))))"
   ]
  },
  {
   "cell_type": "markdown",
   "metadata": {},
   "source": [
    "Thats fine"
   ]
  },
  {
   "cell_type": "code",
   "execution_count": 6,
   "metadata": {},
   "outputs": [],
   "source": [
    "#loop to get the main_df\n",
    "main_df = pd.DataFrame()\n",
    "\n",
    "for team in teams:\n",
    "    for year in years:\n",
    "        team_yr = str(year) + team\n",
    "        df1 = pd.read_csv('../csv_files/'+str(team_yr)+'.txt', header=None, names=headers)\n",
    "        main_df = main_df.append(df1)      \n",
    "    \n"
   ]
  },
  {
   "cell_type": "code",
   "execution_count": 7,
   "metadata": {},
   "outputs": [],
   "source": [
    "#seperate home_team, year, month day and double header info\n",
    "main_df['home_team'] = main_df.game_id.apply(lambda x: x[0:3])\n",
    "main_df['year']      = main_df.game_id.apply(lambda x: x[3:7])\n",
    "main_df['month']     = main_df.game_id.apply(lambda x: x[7:9])\n",
    "main_df['day_']      = main_df.game_id.apply(lambda x: x[9:11])\n",
    "main_df['unknown']   = main_df.game_id.apply(lambda x: x[11:]) #this is double header indicator. 0 means no double, 1 = gm1 2=gm2"
   ]
  },
  {
   "cell_type": "code",
   "execution_count": 8,
   "metadata": {},
   "outputs": [],
   "source": [
    "main_df.to_csv('../2005-2018_games.csv',index=False)"
   ]
  },
  {
   "cell_type": "code",
   "execution_count": 13,
   "metadata": {},
   "outputs": [
    {
     "data": {
      "text/plain": [
       "Index(['game_id', 'away_team', 'inning', 'batting_team', 'outs', 'balls',\n",
       "       'strikes', 'vis_score', 'home_score', 'res_batter', 'res_batter_hand',\n",
       "       'res_pitcher', 'res_pitcher_hand', 'first_runner', 'second_runner',\n",
       "       'third_runner', 'event_text', 'leadoff_flag', 'pinchhit_flag',\n",
       "       'defensive_position', 'lineup_position', 'event_type',\n",
       "       'batter_event_flag', 'ab_flag', 'hit_value', 'sh_flag', 'sf_flag',\n",
       "       'outs_on_play', 'rbi_on_play', 'wild_pitch_flag', 'passed_ball_flag',\n",
       "       'num_errors', 'batter_dest', 'runner_on_1st_dest', 'runner_on_2nd_dest',\n",
       "       'runner_on_3rd_dest', 'home_team', 'year', 'month', 'day_', 'unknown'],\n",
       "      dtype='object')"
      ]
     },
     "execution_count": 13,
     "metadata": {},
     "output_type": "execute_result"
    }
   ],
   "source": [
    "main_df.columns"
   ]
  }
 ],
 "metadata": {
  "kernelspec": {
   "display_name": "Python 3",
   "language": "python",
   "name": "python3"
  },
  "language_info": {
   "codemirror_mode": {
    "name": "ipython",
    "version": 3
   },
   "file_extension": ".py",
   "mimetype": "text/x-python",
   "name": "python",
   "nbconvert_exporter": "python",
   "pygments_lexer": "ipython3",
   "version": "3.6.8"
  }
 },
 "nbformat": 4,
 "nbformat_minor": 2
}
