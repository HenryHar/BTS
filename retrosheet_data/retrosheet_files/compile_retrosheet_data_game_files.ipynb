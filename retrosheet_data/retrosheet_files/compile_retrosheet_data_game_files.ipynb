{
 "cells": [
  {
   "cell_type": "markdown",
   "metadata": {},
   "source": [
    "## The goal of this file is to compile and quickly check the retrosheet data GAME files\n",
    "\n",
    "using BGAME.exe we get a lot of new and different information such as the game's start time, which day of the week it was, who umpires were, the starting lineups, the field conditions etc...\n",
    "\n",
    "What's important for me is the starting lineup so my script here creates a .csv for all the games from 2005-2016 and saves it"
   ]
  },
  {
   "cell_type": "code",
   "execution_count": 1,
   "metadata": {},
   "outputs": [],
   "source": [
    "import pandas as pd\n",
    "import os\n",
    "import numpy as np"
   ]
  },
  {
   "cell_type": "code",
   "execution_count": 2,
   "metadata": {},
   "outputs": [],
   "source": [
    "headers = ['game_id','date','game_number','day_of_week','start_time','DH_used_flag','day/night_flag','visiting_team','home_team',\n",
    "           'game_site','vis._starting_pitcher','home_starting_pitcher','home_plate_umpire','first_base_umpire',\n",
    "           'second_base_umpire','third_base_umpire','left_field_umpire','right_field_umpire','attendance','PS_scorer',\n",
    "           'translator','inputter','input_time','edit_time','how_scored','pitches_entered?','temperature','wind_direction',\n",
    "           'wind_speed','field_condition','precipitation','sky','time_of_game','number_of_innings','visitor_final_score',\n",
    "           'home_final_score','visitor_hits','home_hits','visitor_errors','home_errors','visitor_left_on_base',\n",
    "           'home_left_on_base','winning_pitcher','losing_pitcher','save_for','GW_RBI','visitor_batter_1','visitor_position_1',\n",
    "           'visitor_batter_2','visitor_position_2','visitor_batter_3','visitor_position_3','visitor_batter_4',\n",
    "           'visitor_position_4','visitor_batter_5','visitor_position_5','visitor_batter_6','visitor_position_6','visitor_batter_7',\n",
    "           'visitor_position_7','visitor_batter_8','visitor_position_8','visitor_batter_9','visitor_position_9','home_batter_1',\n",
    "           'home_position_1','home_batter_2','home_position_2','home_batter_3','home_position_3','home_batter_4',\n",
    "           'home_position_4','home_batter_5','home_position_5','home_batter_6','home_position_6','home_batter_7',\n",
    "           'home_position_7','home_batter_8','home_position_8','home_batter_9','home_position_9','visitor_finishing_pitcher',\n",
    "           'home_finishing_pitcher','name_of_official_scorer,_if_known']"
   ]
  },
  {
   "cell_type": "code",
   "execution_count": 4,
   "metadata": {},
   "outputs": [],
   "source": [
    "teams = ['ANA','ARI','ATL','BAL','BOS','CHA','CHN','CIN','CLE','COL','DET','FLO','MIA',\n",
    "        'HOU','KCA','LAN','MIL','MIN','NYA','NYN','OAK','PHI','PIT','SDN','SEA',\n",
    "        'SFN','SLN','TBA','TEX','TOR','WAS']\n",
    "\n",
    "years = np.arange(2005,2016+1,1)\n",
    "\n",
    "for year in years:\n",
    "    for team in teams:\n",
    "        team_yr = str(year) + team\n",
    "        os.system('BGAME -y ' + str(year) + ' ' +team_yr+'.eva > ../csv_files_game_info/'+ team_yr +'.txt')\n",
    "        if os.stat('../csv_files_game_info/'+team_yr+'.txt').st_size ==0:\n",
    "            os.system('BGAME -y ' + str(year) + ' ' +team_yr+'.evn > ../csv_files_game_info/'+ team_yr +'.txt')\n",
    "\n",
    "#FLORIDA ONLY FROM 2010 TO 2011\n",
    "#THEN BECOMES MIA\n",
    "#BEVENT -y 2010 2010BOS.eva > 2010BOS.txt     this is the standard line of code that you need to run off cmd.exe\n",
    "# https://www.retrosheet.org/datause.txt"
   ]
  },
  {
   "cell_type": "code",
   "execution_count": 5,
   "metadata": {},
   "outputs": [],
   "source": [
    "# got all the csv files,\n",
    "#now im going to test their validity... so i will append each team's then do .groupby('date') then len() it should b 81 x 12 years \n",
    "# except for FLO and MIA"
   ]
  },
  {
   "cell_type": "markdown",
   "metadata": {},
   "source": [
    "## Check to have all games: \n",
    "\n",
    "each team should print out 81 * 12 or 972.. in certain instances teams played 1 or less games at home thats fine. <br><br>In 2012 FLO changed to MIA"
   ]
  },
  {
   "cell_type": "code",
   "execution_count": 6,
   "metadata": {},
   "outputs": [
    {
     "name": "stderr",
     "output_type": "stream",
     "text": [
      "C:\\ProgramData\\Anaconda3\\lib\\site-packages\\pandas\\core\\frame.py:6692: FutureWarning: Sorting because non-concatenation axis is not aligned. A future version\n",
      "of pandas will change to not sort by default.\n",
      "\n",
      "To accept the future behavior, pass 'sort=False'.\n",
      "\n",
      "To retain the current behavior and silence the warning, pass 'sort=True'.\n",
      "\n",
      "  sort=sort)\n"
     ]
    },
    {
     "name": "stdout",
     "output_type": "stream",
     "text": [
      "TeamANA lenght 972\n",
      "TeamARI lenght 972\n",
      "TeamATL lenght 972\n",
      "TeamBAL lenght 971\n",
      "TeamBOS lenght 972\n",
      "TeamCHA lenght 973\n",
      "TeamCHN lenght 971\n",
      "TeamCIN lenght 973\n",
      "TeamCLE lenght 970\n",
      "TeamCOL lenght 973\n",
      "TeamDET lenght 971\n",
      "TeamFLO lenght 567\n",
      "TeamMIA lenght 404\n",
      "TeamHOU lenght 971\n",
      "TeamKCA lenght 972\n",
      "TeamLAN lenght 972\n",
      "TeamMIL lenght 972\n",
      "TeamMIN lenght 973\n",
      "TeamNYA lenght 972\n",
      "TeamNYN lenght 972\n",
      "TeamOAK lenght 972\n",
      "TeamPHI lenght 972\n",
      "TeamPIT lenght 972\n",
      "TeamSDN lenght 972\n",
      "TeamSEA lenght 973\n",
      "TeamSFN lenght 972\n",
      "TeamSLN lenght 971\n",
      "TeamTBA lenght 972\n",
      "TeamTEX lenght 973\n",
      "TeamTOR lenght 972\n",
      "TeamWAS lenght 970\n"
     ]
    }
   ],
   "source": [
    "teams = ['ANA','ARI','ATL','BAL','BOS','CHA','CHN','CIN','CLE','COL','DET','FLO','MIA',\n",
    "        'HOU','KCA','LAN','MIL','MIN','NYA','NYN','OAK','PHI','PIT','SDN','SEA',\n",
    "        'SFN','SLN','TBA','TEX','TOR','WAS']\n",
    "\n",
    "years = np.arange(2005,2016+1,1)\n",
    "\n",
    "for team in teams:\n",
    "    year = 2005\n",
    "    team_yr = str(year) + team\n",
    "    df= pd.read_csv('../csv_files_game_info/'+str(team_yr)+'.txt', header=None, names=headers)\n",
    "    df['home_team_add'] = team\n",
    "    mega = df.copy()\n",
    "    for year in years:\n",
    "        team_yr = str(year) + team\n",
    "        df1 = pd.read_csv('../csv_files_game_info/'+str(team_yr)+'.txt', header=None, names=headers)\n",
    "        mega = mega.append(df1)\n",
    "    \n",
    "    \n",
    "    print('Team' + team +' lenght '+ str(len(mega.groupby('game_id'))))"
   ]
  },
  {
   "cell_type": "markdown",
   "metadata": {},
   "source": [
    "Thats fine"
   ]
  },
  {
   "cell_type": "code",
   "execution_count": 7,
   "metadata": {},
   "outputs": [],
   "source": [
    "#loop to get the main_df\n",
    "main_df = pd.DataFrame()\n",
    "\n",
    "for team in teams:\n",
    "    for year in years:\n",
    "        team_yr = str(year) + team\n",
    "        df1 = pd.read_csv('../csv_files_game_info/'+str(team_yr)+'.txt', header=None, names=headers)\n",
    "        main_df = main_df.append(df1)      "
   ]
  },
  {
   "cell_type": "code",
   "execution_count": 13,
   "metadata": {},
   "outputs": [],
   "source": [
    "#seperate home_team, year, month day and double header info\n",
    "main_df['home_team'] = main_df.game_id.apply(lambda x: x[0:3])\n",
    "main_df['year']      = main_df.game_id.apply(lambda x: x[3:7])\n",
    "main_df['month']     = main_df.game_id.apply(lambda x: x[7:9])\n",
    "main_df['day']      = main_df.game_id.apply(lambda x: x[9:11])\n",
    "main_df['double_header_flag']   = main_df.game_id.apply(lambda x: x[11:]) #this is double header indicator. 0 means no double, 1 = gm1 2=gm2\n",
    "main_df.drop('game_number',axis=1, inplace=True)"
   ]
  },
  {
   "cell_type": "code",
   "execution_count": 14,
   "metadata": {},
   "outputs": [],
   "source": [
    "main_df.to_csv('../2005-2016_game_info.csv',index=False)"
   ]
  }
 ],
 "metadata": {
  "kernelspec": {
   "display_name": "Python 3",
   "language": "python",
   "name": "python3"
  },
  "language_info": {
   "codemirror_mode": {
    "name": "ipython",
    "version": 3
   },
   "file_extension": ".py",
   "mimetype": "text/x-python",
   "name": "python",
   "nbconvert_exporter": "python",
   "pygments_lexer": "ipython3",
   "version": "3.6.8"
  }
 },
 "nbformat": 4,
 "nbformat_minor": 2
}
