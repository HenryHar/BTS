{
 "cells": [
  {
   "cell_type": "markdown",
   "metadata": {},
   "source": [
    "## streak_counter.py Function tests\n",
    "\n",
    "The goal of this file is to run tests on streak_counter.py Once this function is complete, backtesting will be simple as we will able to call the function, specify the dates and the current streak and it will tell us what our new streak is"
   ]
  },
  {
   "cell_type": "code",
   "execution_count": 1,
   "metadata": {},
   "outputs": [],
   "source": [
    "import pandas as pd\n",
    "import numpy as np\n",
    "import datetime\n",
    "import sys\n",
    "sys.path.append('../')\n",
    "from streak_counter import hit_checker, streak_counter\n",
    "\n",
    "df = pd.read_csv('../retrosheet_data/2005-2018_games.csv')"
   ]
  },
  {
   "cell_type": "code",
   "execution_count": 2,
   "metadata": {},
   "outputs": [],
   "source": [
    "df3 = df.copy()\n",
    "df3['ab_flag'] = df3.ab_flag.map({'F':0,'T':1})\n",
    "df3.rename(columns={'unknown':'double_header_flag'},inplace=True)"
   ]
  },
  {
   "cell_type": "code",
   "execution_count": 3,
   "metadata": {},
   "outputs": [],
   "source": [
    "year = 2009\n",
    "month = 6\n",
    "day = 26"
   ]
  },
  {
   "cell_type": "markdown",
   "metadata": {},
   "source": [
    "date is set to 2009 - 6 - 26 or June 26   2009\n",
    "the games in question can be found at the following links for a visual representation\n",
    "first game : https://www.baseball-reference.com/boxes/ATL/ATL200906260.shtml\n",
    "second game: https://www.baseball-reference.com/boxes/ARI/ARI200906260.shtml\n",
    "\n",
    "players chosen for tests:\n",
    "\n",
    "    Kevin Youkilis: youkk001         : went 0-3 on 4 plate apperances on June 26, 2009\n",
    "    Tori Hunter: huntt001            : went 1-4 in 5 plate apperances on June 26, 2009\n",
    "    Dustin Pedroia: pedrd001         : went 2-4 in 4 plate appearances on June 26, 2009\n",
    "    Hank Aaron: aaroh101             : mlb legend who played during the 50s, 60s and 70s\n",
    "    Jonathan Papelbon: papej001      : pitched, did not get an official at-bat during the game\n",
    "    George Kottaras: kottg001        : did not play on June 26, 2009 despite him being on the active roster of the RedSox\n",
    "    Jacoby Ellsbury: ellsj001        : he pinch hit going 0-1, in BTS, this would count and your streak would reset to 0\n",
    "    \n",
    "\n",
    "I am going to test the code below and issue another revision once I modify the functions for double headers. The BTS rules specify how these games should be treated. In this version, the code doesn't treat these types of discrepancy so I will need to fix this shortly. "
   ]
  },
  {
   "cell_type": "markdown",
   "metadata": {},
   "source": [
    "# Test date and time"
   ]
  },
  {
   "cell_type": "code",
   "execution_count": 4,
   "metadata": {},
   "outputs": [
    {
     "data": {
      "text/plain": [
       "datetime.datetime(2019, 4, 29, 16, 42, 17, 972729)"
      ]
     },
     "execution_count": 4,
     "metadata": {},
     "output_type": "execute_result"
    }
   ],
   "source": [
    "datetime.datetime.now()"
   ]
  },
  {
   "cell_type": "code",
   "execution_count": 5,
   "metadata": {},
   "outputs": [],
   "source": [
    "players1 = ['huntt001','youkk001','pedrd001','aaroh101']\n",
    "players2 = ['huntt001','pedrd001','aaroh101']\n",
    "players3 = ['huntt001','pedrd001']\n",
    "players4 = ['huntt001']\n",
    "players5 = ['huntt001','aaroh101']\n",
    "players6 = ['youkk001','huntt001','pedrd001','aaroh101']\n",
    "players7 = ['youkk001','huntt001']\n",
    "players8 = ['youkk001']\n",
    "players9 = ['aaroh101']\n",
    "players10 = ['papej001']\n",
    "players11 = ['papej001','huntt001']\n",
    "players12 = ['huntt001','papej001']\n",
    "players13 = ['papej001','youkk001']\n",
    "players14 = ['youkk001','papej001']\n",
    "players15 = ['kottg001']\n",
    "players16 = ['ellsj001']\n"
   ]
  },
  {
   "cell_type": "code",
   "execution_count": 6,
   "metadata": {},
   "outputs": [
    {
     "data": {
      "text/plain": [
       "('lose_streak', 2, 2)"
      ]
     },
     "execution_count": 6,
     "metadata": {},
     "output_type": "execute_result"
    }
   ],
   "source": [
    "hit_checker(df3, year,month,day,players1), hit_checker(df3, year,month,day,players2), hit_checker(df3, year,month,day,players3),\n",
    "\n",
    "#picked 4 players, 2 got hits, 1 played and got 0 hits, last player did not play: players1 case: expected: 'lose_streak' : pass\n",
    "#picked 3 players, 2 of which played and got hits, the last player did not play.  players2 case: expected: 2 :  pass\n",
    "#picked 2 players, both of which got hits                                         players3 case: expected: 2 :  pass"
   ]
  },
  {
   "cell_type": "code",
   "execution_count": 7,
   "metadata": {},
   "outputs": [
    {
     "data": {
      "text/plain": [
       "(1, 1, 'lose_streak')"
      ]
     },
     "execution_count": 7,
     "metadata": {},
     "output_type": "execute_result"
    }
   ],
   "source": [
    "hit_checker(df3, year,month,day,players4),hit_checker(df3, year,month,day,players5), hit_checker(df3, year,month,day,players6),\n",
    "\n",
    "# picked a player who played and got a hit                    players4 case: expected: 1 : pass\n",
    "# picked a second player who did not play                     players5 case: expected: 1 : pass\n",
    "# picked players1 again but flipped the order of the batters: players6 case: expected: 'lose_streak' : pass"
   ]
  },
  {
   "cell_type": "code",
   "execution_count": 8,
   "metadata": {},
   "outputs": [
    {
     "data": {
      "text/plain": [
       "('lose_streak', 'lose_streak', 'continue_streak')"
      ]
     },
     "execution_count": 8,
     "metadata": {},
     "output_type": "execute_result"
    }
   ],
   "source": [
    "hit_checker(df3, year,month,day,players7), hit_checker(df3, year,month,day,players8), hit_checker(df3, year,month,day,players9)\n",
    "\n",
    "#picked a second player who played but did not get a hit    players7 case: expected: 'lose_streak' : pass\n",
    "#picked a single player who played and did not get a hit    players8 case: expected: 'lose_streak' : pass\n",
    "#picked a player who didn't play (not on roster)            players9 case: expected: 'continue_streak': pass"
   ]
  },
  {
   "cell_type": "code",
   "execution_count": 9,
   "metadata": {},
   "outputs": [
    {
     "data": {
      "text/plain": [
       "('continue_streak', 1, 1)"
      ]
     },
     "execution_count": 9,
     "metadata": {},
     "output_type": "execute_result"
    }
   ],
   "source": [
    "hit_checker(df3, year,month,day,players10),hit_checker(df3, year,month,day,players11),hit_checker(df3, year,month,day,players12)\n",
    "\n",
    "#picked a single player and that player did not get charged an at-bat       players10 case: expected: 'continue_streak': pass\n",
    "#picked 2 players, one didnt get charged with an at-bat and other got a hit players11 case: expected: 1 : pass\n",
    "#same as above except order has been switched.                              players12 case: expected: 1 : pass"
   ]
  },
  {
   "cell_type": "code",
   "execution_count": 10,
   "metadata": {},
   "outputs": [
    {
     "data": {
      "text/plain": [
       "('lose_streak', 'lose_streak', 'continue_streak')"
      ]
     },
     "execution_count": 10,
     "metadata": {},
     "output_type": "execute_result"
    }
   ],
   "source": [
    "hit_checker(df3, year,month,day,players13),hit_checker(df3, year,month,day,players14),hit_checker(df3, year,month,day,players15)\n",
    "\n",
    "#picked 2 players, 1st did not get an AB, 2nd got 0 hits w/ at least 1 AB    players13 case: expected: 'lose_streak': pass\n",
    "#case 14: same as case 13 except player order has been switched              players14 case: expected: 'lose_streak': pass\n",
    "#picked a player on the roster but who did not play...                       players15 case: expected: 'continue_streak' : pass"
   ]
  },
  {
   "cell_type": "code",
   "execution_count": 11,
   "metadata": {},
   "outputs": [
    {
     "data": {
      "text/plain": [
       "'lose_streak'"
      ]
     },
     "execution_count": 11,
     "metadata": {},
     "output_type": "execute_result"
    }
   ],
   "source": [
    "hit_checker(df3, year,month,day,players16)\n",
    "#picked a player who came off bench pinch hitting ellsbury... went 0-1 :    players16 case: expected: 'lose_streak': pass"
   ]
  },
  {
   "cell_type": "markdown",
   "metadata": {},
   "source": [
    "## Testing out streak_counter function\n",
    "\n",
    "Lets quickly test out streak_counter which is a direct copy-paste of hit_checker except it takes an extra argument, the current streak and returns the new streak lenght depending on the results.\n",
    "\n",
    "We will test it out with a starting streak of 10 which is the last argument you give in the function"
   ]
  },
  {
   "cell_type": "markdown",
   "metadata": {},
   "source": [
    "## Losing your streak cases"
   ]
  },
  {
   "cell_type": "code",
   "execution_count": 12,
   "metadata": {},
   "outputs": [
    {
     "data": {
      "text/plain": [
       "(0, 0)"
      ]
     },
     "execution_count": 12,
     "metadata": {},
     "output_type": "execute_result"
    }
   ],
   "source": [
    "# players1, players7, players8, players13, players14 and players16  led to 'lose_streak',\n",
    "streak_counter(df3, year, month, day, players1, 10), streak_counter(df3, year, month, day, players7, 10),"
   ]
  },
  {
   "cell_type": "code",
   "execution_count": 13,
   "metadata": {},
   "outputs": [
    {
     "data": {
      "text/plain": [
       "(0, 0)"
      ]
     },
     "execution_count": 13,
     "metadata": {},
     "output_type": "execute_result"
    }
   ],
   "source": [
    "streak_counter(df3, year, month, day, players8, 10), streak_counter(df3, year, month, day, players13, 10)"
   ]
  },
  {
   "cell_type": "code",
   "execution_count": 14,
   "metadata": {},
   "outputs": [
    {
     "data": {
      "text/plain": [
       "(0, 0)"
      ]
     },
     "execution_count": 14,
     "metadata": {},
     "output_type": "execute_result"
    }
   ],
   "source": [
    "streak_counter(df3, year, month, day, players14, 10), streak_counter(df3, year, month, day, players16, 10)"
   ]
  },
  {
   "cell_type": "markdown",
   "metadata": {},
   "source": [
    "## Increasing your streak by 2"
   ]
  },
  {
   "cell_type": "code",
   "execution_count": 15,
   "metadata": {},
   "outputs": [
    {
     "data": {
      "text/plain": [
       "12"
      ]
     },
     "execution_count": 15,
     "metadata": {},
     "output_type": "execute_result"
    }
   ],
   "source": [
    "# players3 led to a streak of 2\n",
    "streak_counter(df3, year, month, day, players3, 10)"
   ]
  },
  {
   "cell_type": "markdown",
   "metadata": {},
   "source": [
    "## Increasing your streak by 1"
   ]
  },
  {
   "cell_type": "code",
   "execution_count": 16,
   "metadata": {},
   "outputs": [
    {
     "data": {
      "text/plain": [
       "(11, 11)"
      ]
     },
     "execution_count": 16,
     "metadata": {},
     "output_type": "execute_result"
    }
   ],
   "source": [
    "#players4, players 5 and players11, players12 led to increasing your streak by 1\n",
    "streak_counter(df3, year, month, day, players4, 10), streak_counter(df3, year, month, day, players5, 10)"
   ]
  },
  {
   "cell_type": "code",
   "execution_count": 17,
   "metadata": {},
   "outputs": [
    {
     "data": {
      "text/plain": [
       "(11, 11)"
      ]
     },
     "execution_count": 17,
     "metadata": {},
     "output_type": "execute_result"
    }
   ],
   "source": [
    "streak_counter(df3, year, month, day, players11, 10), streak_counter(df3, year, month, day, players12, 10)"
   ]
  },
  {
   "cell_type": "markdown",
   "metadata": {},
   "source": [
    "## Continuing your streak (chosen player did not receive an AB during the game)"
   ]
  },
  {
   "cell_type": "code",
   "execution_count": 18,
   "metadata": {},
   "outputs": [
    {
     "data": {
      "text/plain": [
       "(10, 10)"
      ]
     },
     "execution_count": 18,
     "metadata": {},
     "output_type": "execute_result"
    }
   ],
   "source": [
    "# players9, players10 & players15 led to your streak continuing (no effect)\n",
    "streak_counter(df3, year, month, day, players9, 10), streak_counter(df3, year, month, day, players10, 10) "
   ]
  },
  {
   "cell_type": "code",
   "execution_count": 19,
   "metadata": {},
   "outputs": [
    {
     "data": {
      "text/plain": [
       "10"
      ]
     },
     "execution_count": 19,
     "metadata": {},
     "output_type": "execute_result"
    }
   ],
   "source": [
    "streak_counter(df3, year, month, day, players15, 10)"
   ]
  },
  {
   "cell_type": "code",
   "execution_count": 20,
   "metadata": {},
   "outputs": [
    {
     "data": {
      "text/plain": [
       "datetime.datetime(2019, 4, 29, 16, 42, 20, 677738)"
      ]
     },
     "execution_count": 20,
     "metadata": {},
     "output_type": "execute_result"
    }
   ],
   "source": [
    "datetime.datetime.now()"
   ]
  },
  {
   "cell_type": "markdown",
   "metadata": {},
   "source": [
    "End"
   ]
  }
 ],
 "metadata": {
  "kernelspec": {
   "display_name": "Python 3",
   "language": "python",
   "name": "python3"
  },
  "language_info": {
   "codemirror_mode": {
    "name": "ipython",
    "version": 3
   },
   "file_extension": ".py",
   "mimetype": "text/x-python",
   "name": "python",
   "nbconvert_exporter": "python",
   "pygments_lexer": "ipython3",
   "version": "3.6.8"
  }
 },
 "nbformat": 4,
 "nbformat_minor": 2
}
