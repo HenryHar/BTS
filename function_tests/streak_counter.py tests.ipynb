{
 "cells": [
  {
   "cell_type": "markdown",
   "metadata": {},
   "source": [
    "## streak_counter.py Function tests\n",
    "\n",
    "The goal of this file is to run tests on streak_counter.py Once this function is complete, backtesting will be simple as we will able to call the function, specify the dates and the current streak and it will tell us what our new streak is"
   ]
  },
  {
   "cell_type": "code",
   "execution_count": 1,
   "metadata": {},
   "outputs": [],
   "source": [
    "import pandas as pd\n",
    "import numpy as np\n",
    "import datetime\n",
    "import sys\n",
    "sys.path.append('../')\n",
    "from streak_counter import hit_checker, streak_counter\n",
    "\n",
    "df = pd.read_csv('../retrosheet_data/2005-2018_games.csv')"
   ]
  },
  {
   "cell_type": "code",
   "execution_count": 2,
   "metadata": {},
   "outputs": [],
   "source": [
    "df3 = df.copy()\n",
    "df3['ab_flag'] = df3.ab_flag.map({'F':0,'T':1})\n",
    "df3.rename(columns={'unknown':'double_header_flag'},inplace=True)"
   ]
  },
  {
   "cell_type": "code",
   "execution_count": 3,
   "metadata": {},
   "outputs": [
    {
     "data": {
      "text/html": [
       "<div>\n",
       "<style scoped>\n",
       "    .dataframe tbody tr th:only-of-type {\n",
       "        vertical-align: middle;\n",
       "    }\n",
       "\n",
       "    .dataframe tbody tr th {\n",
       "        vertical-align: top;\n",
       "    }\n",
       "\n",
       "    .dataframe thead th {\n",
       "        text-align: right;\n",
       "    }\n",
       "</style>\n",
       "<table border=\"1\" class=\"dataframe\">\n",
       "  <thead>\n",
       "    <tr style=\"text-align: right;\">\n",
       "      <th></th>\n",
       "      <th>game_id</th>\n",
       "      <th>away_team</th>\n",
       "      <th>inning</th>\n",
       "      <th>batting_team</th>\n",
       "      <th>outs</th>\n",
       "      <th>balls</th>\n",
       "      <th>strikes</th>\n",
       "      <th>vis_score</th>\n",
       "      <th>home_score</th>\n",
       "      <th>res_batter</th>\n",
       "      <th>...</th>\n",
       "      <th>num_errors</th>\n",
       "      <th>batter_dest</th>\n",
       "      <th>runner_on_1st_dest</th>\n",
       "      <th>runner_on_2nd_dest</th>\n",
       "      <th>runner_on_3rd_dest</th>\n",
       "      <th>home_team</th>\n",
       "      <th>year</th>\n",
       "      <th>month</th>\n",
       "      <th>day_</th>\n",
       "      <th>double_header_flag</th>\n",
       "    </tr>\n",
       "  </thead>\n",
       "  <tbody>\n",
       "    <tr>\n",
       "      <th>0</th>\n",
       "      <td>ANA200504050</td>\n",
       "      <td>TEX</td>\n",
       "      <td>1</td>\n",
       "      <td>0</td>\n",
       "      <td>0</td>\n",
       "      <td>1</td>\n",
       "      <td>0</td>\n",
       "      <td>0</td>\n",
       "      <td>0</td>\n",
       "      <td>soria001</td>\n",
       "      <td>...</td>\n",
       "      <td>0</td>\n",
       "      <td>2</td>\n",
       "      <td>0</td>\n",
       "      <td>0</td>\n",
       "      <td>0</td>\n",
       "      <td>ANA</td>\n",
       "      <td>2005</td>\n",
       "      <td>4</td>\n",
       "      <td>5</td>\n",
       "      <td>0</td>\n",
       "    </tr>\n",
       "    <tr>\n",
       "      <th>1</th>\n",
       "      <td>ANA200504050</td>\n",
       "      <td>TEX</td>\n",
       "      <td>1</td>\n",
       "      <td>0</td>\n",
       "      <td>0</td>\n",
       "      <td>3</td>\n",
       "      <td>0</td>\n",
       "      <td>0</td>\n",
       "      <td>0</td>\n",
       "      <td>blalh001</td>\n",
       "      <td>...</td>\n",
       "      <td>0</td>\n",
       "      <td>1</td>\n",
       "      <td>0</td>\n",
       "      <td>2</td>\n",
       "      <td>0</td>\n",
       "      <td>ANA</td>\n",
       "      <td>2005</td>\n",
       "      <td>4</td>\n",
       "      <td>5</td>\n",
       "      <td>0</td>\n",
       "    </tr>\n",
       "    <tr>\n",
       "      <th>2</th>\n",
       "      <td>ANA200504050</td>\n",
       "      <td>TEX</td>\n",
       "      <td>1</td>\n",
       "      <td>0</td>\n",
       "      <td>0</td>\n",
       "      <td>2</td>\n",
       "      <td>2</td>\n",
       "      <td>0</td>\n",
       "      <td>0</td>\n",
       "      <td>younm003</td>\n",
       "      <td>...</td>\n",
       "      <td>0</td>\n",
       "      <td>1</td>\n",
       "      <td>0</td>\n",
       "      <td>3</td>\n",
       "      <td>0</td>\n",
       "      <td>ANA</td>\n",
       "      <td>2005</td>\n",
       "      <td>4</td>\n",
       "      <td>5</td>\n",
       "      <td>0</td>\n",
       "    </tr>\n",
       "    <tr>\n",
       "      <th>3</th>\n",
       "      <td>ANA200504050</td>\n",
       "      <td>TEX</td>\n",
       "      <td>1</td>\n",
       "      <td>0</td>\n",
       "      <td>1</td>\n",
       "      <td>2</td>\n",
       "      <td>2</td>\n",
       "      <td>0</td>\n",
       "      <td>0</td>\n",
       "      <td>teixm001</td>\n",
       "      <td>...</td>\n",
       "      <td>0</td>\n",
       "      <td>0</td>\n",
       "      <td>1</td>\n",
       "      <td>0</td>\n",
       "      <td>3</td>\n",
       "      <td>ANA</td>\n",
       "      <td>2005</td>\n",
       "      <td>4</td>\n",
       "      <td>5</td>\n",
       "      <td>0</td>\n",
       "    </tr>\n",
       "    <tr>\n",
       "      <th>4</th>\n",
       "      <td>ANA200504050</td>\n",
       "      <td>TEX</td>\n",
       "      <td>1</td>\n",
       "      <td>0</td>\n",
       "      <td>2</td>\n",
       "      <td>0</td>\n",
       "      <td>2</td>\n",
       "      <td>0</td>\n",
       "      <td>0</td>\n",
       "      <td>hidar001</td>\n",
       "      <td>...</td>\n",
       "      <td>0</td>\n",
       "      <td>0</td>\n",
       "      <td>1</td>\n",
       "      <td>0</td>\n",
       "      <td>3</td>\n",
       "      <td>ANA</td>\n",
       "      <td>2005</td>\n",
       "      <td>4</td>\n",
       "      <td>5</td>\n",
       "      <td>0</td>\n",
       "    </tr>\n",
       "  </tbody>\n",
       "</table>\n",
       "<p>5 rows × 41 columns</p>\n",
       "</div>"
      ],
      "text/plain": [
       "        game_id away_team  inning  batting_team  outs  balls  strikes  \\\n",
       "0  ANA200504050       TEX       1             0     0      1        0   \n",
       "1  ANA200504050       TEX       1             0     0      3        0   \n",
       "2  ANA200504050       TEX       1             0     0      2        2   \n",
       "3  ANA200504050       TEX       1             0     1      2        2   \n",
       "4  ANA200504050       TEX       1             0     2      0        2   \n",
       "\n",
       "   vis_score  home_score res_batter  ... num_errors batter_dest  \\\n",
       "0          0           0   soria001  ...          0           2   \n",
       "1          0           0   blalh001  ...          0           1   \n",
       "2          0           0   younm003  ...          0           1   \n",
       "3          0           0   teixm001  ...          0           0   \n",
       "4          0           0   hidar001  ...          0           0   \n",
       "\n",
       "  runner_on_1st_dest runner_on_2nd_dest runner_on_3rd_dest home_team  year  \\\n",
       "0                  0                  0                  0       ANA  2005   \n",
       "1                  0                  2                  0       ANA  2005   \n",
       "2                  0                  3                  0       ANA  2005   \n",
       "3                  1                  0                  3       ANA  2005   \n",
       "4                  1                  0                  3       ANA  2005   \n",
       "\n",
       "  month day_  double_header_flag  \n",
       "0     4    5                   0  \n",
       "1     4    5                   0  \n",
       "2     4    5                   0  \n",
       "3     4    5                   0  \n",
       "4     4    5                   0  \n",
       "\n",
       "[5 rows x 41 columns]"
      ]
     },
     "execution_count": 3,
     "metadata": {},
     "output_type": "execute_result"
    }
   ],
   "source": [
    "df3.head()"
   ]
  },
  {
   "cell_type": "code",
   "execution_count": 4,
   "metadata": {},
   "outputs": [],
   "source": [
    "year = 2009\n",
    "month = 6\n",
    "day = 26"
   ]
  },
  {
   "cell_type": "markdown",
   "metadata": {},
   "source": [
    "date is set to 2009 - 6 - 26 or June 26   2009\n",
    "the games in question can be found at the following links for a visual representation\n",
    "first game : https://www.baseball-reference.com/boxes/ATL/ATL200906260.shtml\n",
    "second game: https://www.baseball-reference.com/boxes/ARI/ARI200906260.shtml\n",
    "\n",
    "players chosen for tests:\n",
    "\n",
    "    Kevin Youkilis: youkk001         : went 0-3 on 4 plate apperances on June 26, 2009\n",
    "    Tori Hunter: huntt001            : went 1-4 in 5 plate apperances on June 26, 2009\n",
    "    Dustin Pedroia: pedrd001         : went 2-4 in 4 plate appearances on June 26, 2009\n",
    "    Hank Aaron: aaroh101             : mlb legend who played during the 50s, 60s and 70s\n",
    "    Jonathan Papelbon: papej001      : pitched, did not get an official at-bat during the game\n",
    "    George Kottaras: kottg001        : did not play on June 26, 2009 despite him being on the active roster of the RedSox\n",
    "    Jacoby Ellsbury: ellsj001        : he pinch hit going 0-1, in BTS, this would count and your streak would reset to 0\n",
    "    \n",
    "\n",
    "I am going to test the code below and issue another revision once I modify the functions for double headers. The BTS rules specify how these games should be treated. In this version, the code doesn't treat these types of discrepancy so I will need to fix this shortly. "
   ]
  },
  {
   "cell_type": "markdown",
   "metadata": {},
   "source": [
    "# Test date and time"
   ]
  },
  {
   "cell_type": "code",
   "execution_count": 5,
   "metadata": {},
   "outputs": [
    {
     "data": {
      "text/plain": [
       "datetime.datetime(2019, 4, 30, 13, 1, 29, 656250)"
      ]
     },
     "execution_count": 5,
     "metadata": {},
     "output_type": "execute_result"
    }
   ],
   "source": [
    "datetime.datetime.now()"
   ]
  },
  {
   "cell_type": "markdown",
   "metadata": {},
   "source": [
    "## Testing out streak_counter function\n",
    "\n",
    "Lets test out streak_counter which is a direct copy-paste of hit_checker except it takes an extra argument, the current streak and returns the new streak lenght depending on the results.\n",
    "\n",
    "We will test it out with a starting streak of 10 which is the second last argument you give in the function (last is default setting used for double headers, will be tested after)"
   ]
  },
  {
   "cell_type": "code",
   "execution_count": 6,
   "metadata": {},
   "outputs": [],
   "source": [
    "players1 = ['huntt001']             # hit\n",
    "players2 = ['huntt001','pedrd001']  # hit, hit\n",
    "players3 = ['huntt001','youkk001']  # hit, no hit\n",
    "players4 = ['youkk001','huntt001']  # no hit, hit\n",
    "players5 = ['huntt001','aaroh101']  # hit, not in the roster\n",
    "players6 = ['aaroh101','huntt001']  # not in the roster, hit\n",
    "players7 = ['youkk001']             # no hit\n",
    "players8 = ['aaroh101']             # not in the roster\n",
    "players9 = ['papej001']             # played but did not have an AB\n",
    "players10 = ['papej001','huntt001'] # played but did not have an AB, hit\n",
    "players11 = ['huntt001','papej001'] # hit, played but did not have an AB\n",
    "players12 = ['papej001','youkk001'] # played but did not have an AB, no hit\n",
    "players13 = ['youkk001','papej001'] # no hit, played but did not have an AB\n",
    "players14 = ['kottg001']            # was on roster but did not play\n",
    "players15 = ['kottg001','huntt001'] # was on roster but did not play, hit\n",
    "players16 = ['huntt001','kottg001'] # hit, was on roster but did not play\n",
    "players17 = ['kottg001','youkk001'] # was on roster but did not play, no hit\n",
    "players18 = ['youkk001','kottg001'] # no hit, was on roster but did not play\n",
    "players19 = ['ellsj001']            # pinch hit, went 0-1\n"
   ]
  },
  {
   "cell_type": "code",
   "execution_count": 7,
   "metadata": {},
   "outputs": [
    {
     "data": {
      "text/plain": [
       "(11, 12)"
      ]
     },
     "execution_count": 7,
     "metadata": {},
     "output_type": "execute_result"
    }
   ],
   "source": [
    "streak_counter(df3, year, month, day, players1, 10), streak_counter(df3, year, month, day, players2, 10)\n",
    "\n",
    "#picked 1 player who got a hit                                                    players1 case: expected: 11 : pass\n",
    "#picked 2 players, both of which got a hit                                        players2 case: expected: 12 :  pass"
   ]
  },
  {
   "cell_type": "code",
   "execution_count": 8,
   "metadata": {},
   "outputs": [
    {
     "data": {
      "text/plain": [
       "(0, 0)"
      ]
     },
     "execution_count": 8,
     "metadata": {},
     "output_type": "execute_result"
    }
   ],
   "source": [
    "streak_counter(df3, year, month, day, players3, 10), streak_counter(df3, year, month, day, players4, 10)\n",
    "\n",
    "# picked 2 players. first got a hit, second didn't            players3 case: expected: 0 : pass\n",
    "# picked 2 players, first didn't get a hit, second got a hit  players4 case: expected: 0 : pass"
   ]
  },
  {
   "cell_type": "code",
   "execution_count": 9,
   "metadata": {},
   "outputs": [
    {
     "data": {
      "text/plain": [
       "(11, 11)"
      ]
     },
     "execution_count": 9,
     "metadata": {},
     "output_type": "execute_result"
    }
   ],
   "source": [
    "streak_counter(df3, year, month, day, players5, 10), streak_counter(df3, year, month, day, players6, 10),\n",
    "\n",
    "# picked 2 players. first got a hit, second did not play      players5 case: expected 11: pass\n",
    "# picked 2 players. first did not play, second got a hit      players6 case: expected 11: pass"
   ]
  },
  {
   "cell_type": "code",
   "execution_count": 10,
   "metadata": {},
   "outputs": [
    {
     "data": {
      "text/plain": [
       "(0, 10)"
      ]
     },
     "execution_count": 10,
     "metadata": {},
     "output_type": "execute_result"
    }
   ],
   "source": [
    "streak_counter(df3, year, month, day, players7, 10), streak_counter(df3, year, month, day, players8, 10)\n",
    "\n",
    "#picked 1 player who played and did not get a hit             players7 case: expected 0: pass\n",
    "#picked 1 player who did not play                             players8 case: expected 10: pass"
   ]
  },
  {
   "cell_type": "code",
   "execution_count": 11,
   "metadata": {},
   "outputs": [
    {
     "data": {
      "text/plain": [
       "(10, 11)"
      ]
     },
     "execution_count": 11,
     "metadata": {},
     "output_type": "execute_result"
    }
   ],
   "source": [
    "streak_counter(df3, year, month, day, players9, 10), streak_counter(df3, year, month, day, players10, 10),\n",
    "\n",
    "#picked a player who played but did not get an At-Bat                                players9 case : expected 10: pass\n",
    "#picked 2 players. first played but did not get an At-Bat, second player got a hit   players10 case: expected 11: pass"
   ]
  },
  {
   "cell_type": "code",
   "execution_count": 12,
   "metadata": {},
   "outputs": [
    {
     "data": {
      "text/plain": [
       "(11, 0)"
      ]
     },
     "execution_count": 12,
     "metadata": {},
     "output_type": "execute_result"
    }
   ],
   "source": [
    "streak_counter(df3, year, month, day, players11, 10), streak_counter(df3, year, month, day, players12, 10),\n",
    "\n",
    "#picked 2 players: first player got a hit, second player played but did not get an At-Bat   players11 case: expected 11: pass\n",
    "#picked 2 players: 1st played but did not get an At-Bat, 2nd player had At-Bats but no hits players12 case: expected 0: pass"
   ]
  },
  {
   "cell_type": "code",
   "execution_count": 13,
   "metadata": {},
   "outputs": [
    {
     "data": {
      "text/plain": [
       "(0, 10)"
      ]
     },
     "execution_count": 13,
     "metadata": {},
     "output_type": "execute_result"
    }
   ],
   "source": [
    "streak_counter(df3, year, month, day, players13, 10), streak_counter(df3, year, month, day, players14, 10)\n",
    "\n",
    "#picked 2 players: 1st player had At-Bats but no hits, 2nd played but did not get an At-Bat: players13 case: expected 0: pass\n",
    "#picked a player who was on the roster but did not play:                                     players14 case: expeceted 10: pass"
   ]
  },
  {
   "cell_type": "code",
   "execution_count": 14,
   "metadata": {},
   "outputs": [
    {
     "data": {
      "text/plain": [
       "(11, 11)"
      ]
     },
     "execution_count": 14,
     "metadata": {},
     "output_type": "execute_result"
    }
   ],
   "source": [
    "streak_counter(df3, year, month, day, players15, 10), streak_counter(df3, year, month, day, players16, 10)\n",
    "\n",
    "#picked 2 players, 1st was on the roster but did not play, 2nd got a hit                 players15 case: expected 11: pass\n",
    "#picked 2 players, 1st got a hit, 2nd was on roster but did not play                     players16 case: expected 11: pass"
   ]
  },
  {
   "cell_type": "code",
   "execution_count": 15,
   "metadata": {},
   "outputs": [
    {
     "data": {
      "text/plain": [
       "(0, 0)"
      ]
     },
     "execution_count": 15,
     "metadata": {},
     "output_type": "execute_result"
    }
   ],
   "source": [
    "streak_counter(df3, year, month, day, players17, 10), streak_counter(df3, year, month, day, players18, 10)\n",
    "\n",
    "#picked 2 players, 1st was on the roster but did not play, 2nd played, had At-Bats but no hits players17 case: expected 0: pass\n",
    "#picked 2 players: 1st played, had At-Bats but no hits, 1st was on the roster but did not play players18 case: expected 0: pass"
   ]
  },
  {
   "cell_type": "code",
   "execution_count": 16,
   "metadata": {},
   "outputs": [
    {
     "data": {
      "text/plain": [
       "0"
      ]
     },
     "execution_count": 16,
     "metadata": {},
     "output_type": "execute_result"
    }
   ],
   "source": [
    "streak_counter(df3, year, month, day, players17, 10)\n",
    "\n",
    "#picked 1 player who came off bench pinch hitting, had only 1 AB but 0 hits.                  players19 case: expected 0: pass"
   ]
  },
  {
   "cell_type": "markdown",
   "metadata": {},
   "source": [
    "## Testing for double headers\n",
    "\n",
    "BTS rules state the following:\n",
    "<br><br> 1. In the event that you already chose your player in advance and there happens to be a double header, your pick will default to Game 1 of the double header.\n",
    "<br>  2. If you haven't chosen a player yet for a specific game, and there is a known double header going on, you need to select which game you choose him in.\n",
    "<br> 3. You can select the same player twice, once when he plays in Game 1 and once again when he plays in Game 2"
   ]
  },
  {
   "cell_type": "code",
   "execution_count": 17,
   "metadata": {},
   "outputs": [],
   "source": [
    "# def streak_counter(df,year,month,day, players, streak, game_numb = [[0,1],[0,1]]):\n",
    "# this is the current streak_counter function, game_numb needs to be passed as a list in a list, also if any of the players\n",
    "# are playing in a double header, you need to specify the game number for both\n",
    "\n",
    "# Game 1: Angels vs Redsox: https://www.baseball-reference.com/boxes/ANA/ANA201507201.shtml   \n",
    "# Game 2: Angels vs Redsox  https://www.baseball-reference.com/boxes/ANA/ANA201507202.shtml \n",
    "\n",
    "year  = 2015\n",
    "month = 7\n",
    "day   = 20\n",
    "\n",
    "players20 = ['gonza003']   # did not play in a double header, went 2-5 that day\n",
    "players21 = ['pedrd001']   # went hitless game 1 and game 2\n",
    "players22 = ['sandp001']   # game 1: 2-4  game 2: 0-4   \n",
    "players23 = ['sandp001','gonza003']   # played double header, did not play in double header but went 2-5\n",
    "players24 = ['gonza003','sandp001']   # did not play in double header but went 2-5, played in double header\n",
    "players25 = ['huntt001','sandp001']   # did not play, played double header\n",
    "players26 = ['sandp001','huntt001']   # played double header, did not play"
   ]
  },
  {
   "cell_type": "code",
   "execution_count": 18,
   "metadata": {},
   "outputs": [
    {
     "data": {
      "text/plain": [
       "11"
      ]
     },
     "execution_count": 18,
     "metadata": {},
     "output_type": "execute_result"
    }
   ],
   "source": [
    "streak_counter(df3, year,month,day,players20, 10, game_numb=[[0]])\n",
    "# hit, did not play in double header\n",
    "# expected 11: pass"
   ]
  },
  {
   "cell_type": "code",
   "execution_count": 19,
   "metadata": {},
   "outputs": [
    {
     "data": {
      "text/plain": [
       "0"
      ]
     },
     "execution_count": 19,
     "metadata": {},
     "output_type": "execute_result"
    }
   ],
   "source": [
    "streak_counter(df3, year,month,day,players21, 10) \n",
    "#we are checking dustin predoia who played a double header, if you don't specify any game number then it will default to game 1\n",
    "# expected: 0: pass"
   ]
  },
  {
   "cell_type": "code",
   "execution_count": 20,
   "metadata": {},
   "outputs": [
    {
     "data": {
      "text/plain": [
       "11"
      ]
     },
     "execution_count": 20,
     "metadata": {},
     "output_type": "execute_result"
    }
   ],
   "source": [
    "streak_counter(df3, year,month,day,players22, 10) \n",
    "# now we are checking pablo sandoval, again no game number is specified so it will default to game 1 which is where he got a hit\n",
    "# expected: 11 : pass"
   ]
  },
  {
   "cell_type": "code",
   "execution_count": 21,
   "metadata": {},
   "outputs": [
    {
     "data": {
      "text/plain": [
       "11"
      ]
     },
     "execution_count": 21,
     "metadata": {},
     "output_type": "execute_result"
    }
   ],
   "source": [
    "streak_counter(df3, year,month,day,players22, 10, game_numb=[[1]]) \n",
    "# again, picking pablo sandoval but now we can specify the game number as being the first in the double header\n",
    "# expected: 11: pass"
   ]
  },
  {
   "cell_type": "code",
   "execution_count": 22,
   "metadata": {},
   "outputs": [
    {
     "data": {
      "text/plain": [
       "0"
      ]
     },
     "execution_count": 22,
     "metadata": {},
     "output_type": "execute_result"
    }
   ],
   "source": [
    "streak_counter(df3, year,month,day,players22, 10, game_numb=[[2]]) \n",
    "# picking pablo sandoval but specifying Game 2 where he went 0-4\n",
    "# expected: 0: pass"
   ]
  },
  {
   "cell_type": "code",
   "execution_count": 23,
   "metadata": {},
   "outputs": [
    {
     "data": {
      "text/plain": [
       "12"
      ]
     },
     "execution_count": 23,
     "metadata": {},
     "output_type": "execute_result"
    }
   ],
   "source": [
    "streak_counter(df3, year,month,day,players23, 10, game_numb=[[0,1],[0,1]])\n",
    "# we want Pablo Sandoval and Adrian Gonzalez both game 1\n",
    "# if you dont know if the second player played a double header, it is best to specify [0,1]\n",
    "# expected: 12: pass               "
   ]
  },
  {
   "cell_type": "code",
   "execution_count": 24,
   "metadata": {},
   "outputs": [
    {
     "data": {
      "text/plain": [
       "0"
      ]
     },
     "execution_count": 24,
     "metadata": {},
     "output_type": "execute_result"
    }
   ],
   "source": [
    "streak_counter(df3, year,month,day,players23, 10, game_numb=[[2],[0,1]])\n",
    "# AB w/ no hits, hit\n",
    "# expected: 0: pass"
   ]
  },
  {
   "cell_type": "code",
   "execution_count": 25,
   "metadata": {},
   "outputs": [
    {
     "data": {
      "text/plain": [
       "12"
      ]
     },
     "execution_count": 25,
     "metadata": {},
     "output_type": "execute_result"
    }
   ],
   "source": [
    "streak_counter(df3, year,month,day,players24, 10, game_numb=[[0,1],[0,1]])\n",
    "# hit - hit \n",
    "# expected: 12: pass"
   ]
  },
  {
   "cell_type": "code",
   "execution_count": 26,
   "metadata": {},
   "outputs": [
    {
     "data": {
      "text/plain": [
       "0"
      ]
     },
     "execution_count": 26,
     "metadata": {},
     "output_type": "execute_result"
    }
   ],
   "source": [
    "streak_counter(df3, year,month,day,players24, 10, game_numb=[[0,1],[2]])\n",
    "# hit - AB w/no hit\n",
    "# expected: 0: pass"
   ]
  },
  {
   "cell_type": "code",
   "execution_count": 27,
   "metadata": {},
   "outputs": [
    {
     "data": {
      "text/plain": [
       "11"
      ]
     },
     "execution_count": 27,
     "metadata": {},
     "output_type": "execute_result"
    }
   ],
   "source": [
    "streak_counter(df3, year,month,day,players25, 10, game_numb=[[0,1],[1]])\n",
    "# did not play - hit\n",
    "# expected: 11: pass"
   ]
  },
  {
   "cell_type": "code",
   "execution_count": 28,
   "metadata": {},
   "outputs": [
    {
     "data": {
      "text/plain": [
       "0"
      ]
     },
     "execution_count": 28,
     "metadata": {},
     "output_type": "execute_result"
    }
   ],
   "source": [
    "streak_counter(df3, year,month,day,players25, 10, game_numb=[[0,1],[2]])\n",
    "# did not play - AB w/ no hits\n",
    "# expected 0 : pass"
   ]
  },
  {
   "cell_type": "code",
   "execution_count": 29,
   "metadata": {},
   "outputs": [
    {
     "data": {
      "text/plain": [
       "11"
      ]
     },
     "execution_count": 29,
     "metadata": {},
     "output_type": "execute_result"
    }
   ],
   "source": [
    "streak_counter(df3, year,month,day,players26, 10, game_numb=[[1],[0,1]])\n",
    "# hit, did not play\n",
    "# expected: 11: pass"
   ]
  },
  {
   "cell_type": "code",
   "execution_count": 30,
   "metadata": {},
   "outputs": [
    {
     "data": {
      "text/plain": [
       "0"
      ]
     },
     "execution_count": 30,
     "metadata": {},
     "output_type": "execute_result"
    }
   ],
   "source": [
    "streak_counter(df3, year,month,day,players26, 10, game_numb=[[2],[0,1]])\n",
    "# AB w/ no hits, did not play\n",
    "# expected: 0: pass"
   ]
  },
  {
   "cell_type": "markdown",
   "metadata": {},
   "source": [
    "End"
   ]
  }
 ],
 "metadata": {
  "kernelspec": {
   "display_name": "Python 3",
   "language": "python",
   "name": "python3"
  },
  "language_info": {
   "codemirror_mode": {
    "name": "ipython",
    "version": 3
   },
   "file_extension": ".py",
   "mimetype": "text/x-python",
   "name": "python",
   "nbconvert_exporter": "python",
   "pygments_lexer": "ipython3",
   "version": "3.6.8"
  }
 },
 "nbformat": 4,
 "nbformat_minor": 2
}
