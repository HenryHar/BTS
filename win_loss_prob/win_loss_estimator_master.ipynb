{
 "cells": [
  {
   "cell_type": "markdown",
   "metadata": {},
   "source": [
    "## Goal\n",
    "\n",
    "1. Find relationship between RS and RA to win %. Runs Scored, Runs Against and Win %\n",
    "\n",
    "2. Possibly improve upon Pythagenpat formula"
   ]
  },
  {
   "cell_type": "markdown",
   "metadata": {},
   "source": [
    "# Step 1\n",
    "\n",
    "Obtain data from baseball reference"
   ]
  },
  {
   "cell_type": "code",
   "execution_count": 1,
   "metadata": {},
   "outputs": [],
   "source": [
    "import pandas as pd\n",
    "import numpy as np\n",
    "import requests\n",
    "from bs4 import BeautifulSoup"
   ]
  },
  {
   "cell_type": "markdown",
   "metadata": {},
   "source": [
    "## Load and update team logs"
   ]
  },
  {
   "cell_type": "code",
   "execution_count": 2,
   "metadata": {},
   "outputs": [],
   "source": [
    "def get_table(soup):\n",
    "    data = []\n",
    "    # Disclaimer: i used some of the code from pybaseball on github and modified the functions.\n",
    "    table = soup.find_all('table', {'id': 'franchise_years'})[0]\n",
    "    headings = [row.text.strip() for row in table.find_all('th')[0:21]]\n",
    "\n",
    "    rows = table.find_all('tr')[1:] # [1:] to remove headings from rows\n",
    "    for row in rows:\n",
    "        year = row.find('th').text\n",
    "        cols = row.find_all('td')\n",
    "        cols = [ele.text.strip() for ele in cols]\n",
    "        cols.insert(0, year) # insert year at beginning of columns\n",
    "        data.append([ele for ele in cols[0:]])\n",
    "        \n",
    "    data = pd.DataFrame(data=data, columns=headings)    \n",
    "\n",
    "    return data"
   ]
  },
  {
   "cell_type": "code",
   "execution_count": 3,
   "metadata": {},
   "outputs": [],
   "source": [
    "def player_batting_bref(team_id):\n",
    "    # Disclaimer: i used some of the code from pybaseball on github and modified the functions.\n",
    "    url = 'https://www.baseball-reference.com/teams/'+team_id +'/index.shtml'\n",
    "    response = requests.get(url)\n",
    "    soup = BeautifulSoup(response.content, 'html.parser')\n",
    "    data = get_table(soup)\n",
    "    \n",
    "    return data"
   ]
  },
  {
   "cell_type": "code",
   "execution_count": 4,
   "metadata": {},
   "outputs": [],
   "source": [
    "def give_me_df(team_ids):\n",
    "    # Disclaimer: i used some of the code from pybaseball on github and modified the functions.\n",
    "    master = pd.DataFrame()\n",
    "\n",
    "    for team in team_ids:\n",
    "\n",
    "        df= player_batting_bref(team_ids)\n",
    "        master = master.append(df)\n",
    "\n",
    "#        master['player_name'].fillna(player, inplace=True)\n",
    "    \n",
    "    master.reset_index(drop=True,inplace=True)\n",
    "    \n",
    "    return master"
   ]
  },
  {
   "cell_type": "markdown",
   "metadata": {},
   "source": [
    "### I am scraping this web-page but for every team in the mlb."
   ]
  },
  {
   "cell_type": "code",
   "execution_count": 5,
   "metadata": {},
   "outputs": [],
   "source": [
    "url =  'https://www.baseball-reference.com/teams/TOR/index.shtml'\n",
    "response = requests.get(url)\n",
    "soup = BeautifulSoup(response.content,'html.parser')"
   ]
  },
  {
   "cell_type": "code",
   "execution_count": 6,
   "metadata": {},
   "outputs": [],
   "source": [
    "teams = ['LAD','HOU','MIN','NYY','TBD','CHC','PHI','MIL','ATL','COL','TEX','BOS','STL','SDP','CLE','OAK'\n",
    "    ,'ARI','CHW','ANA','PIT','NYM','CIN','WSN','SFG','DET','SEA','FLO','TOR'\n",
    "        ,'BAL','KCR']"
   ]
  },
  {
   "cell_type": "code",
   "execution_count": 7,
   "metadata": {},
   "outputs": [
    {
     "name": "stdout",
     "output_type": "stream",
     "text": [
      "PASSED WITH TEAM : LAD\n",
      "PASSED WITH TEAM : HOU\n",
      "PASSED WITH TEAM : MIN\n",
      "PASSED WITH TEAM : NYY\n",
      "PASSED WITH TEAM : TBD\n",
      "PASSED WITH TEAM : CHC\n",
      "PASSED WITH TEAM : PHI\n",
      "PASSED WITH TEAM : MIL\n",
      "PASSED WITH TEAM : ATL\n",
      "PASSED WITH TEAM : COL\n",
      "PASSED WITH TEAM : TEX\n",
      "PASSED WITH TEAM : BOS\n",
      "PASSED WITH TEAM : STL\n",
      "PASSED WITH TEAM : SDP\n",
      "PASSED WITH TEAM : CLE\n",
      "PASSED WITH TEAM : OAK\n",
      "PASSED WITH TEAM : ARI\n",
      "PASSED WITH TEAM : CHW\n",
      "PASSED WITH TEAM : ANA\n",
      "PASSED WITH TEAM : PIT\n",
      "PASSED WITH TEAM : NYM\n",
      "PASSED WITH TEAM : CIN\n",
      "PASSED WITH TEAM : WSN\n",
      "PASSED WITH TEAM : SFG\n",
      "PASSED WITH TEAM : DET\n",
      "PASSED WITH TEAM : SEA\n",
      "PASSED WITH TEAM : FLO\n",
      "PASSED WITH TEAM : TOR\n",
      "PASSED WITH TEAM : BAL\n",
      "PASSED WITH TEAM : KCR\n"
     ]
    }
   ],
   "source": [
    "df1= pd.DataFrame()\n",
    "for team in teams:\n",
    "    try:\n",
    "        df1 = df1.append(give_me_df(team))\n",
    "        print('PASSED WITH TEAM :',team)\n",
    "    except:\n",
    "        print('FAILED WITH TEAM ',team)\n",
    "        pass"
   ]
  },
  {
   "cell_type": "code",
   "execution_count": 8,
   "metadata": {},
   "outputs": [],
   "source": [
    "df1 = df1.drop_duplicates()"
   ]
  },
  {
   "cell_type": "code",
   "execution_count": 9,
   "metadata": {},
   "outputs": [
    {
     "data": {
      "text/plain": [
       "Index(['Year', 'Tm', 'Lg', 'G', 'W', 'L', 'Ties', 'W-L%', 'pythW-L%', 'Finish',\n",
       "       'GB', 'Playoffs', 'R', 'RA', 'Attendance', 'BatAge', 'PAge', '#Bat',\n",
       "       '#P', 'Top Player', 'Managers'],\n",
       "      dtype='object')"
      ]
     },
     "execution_count": 9,
     "metadata": {},
     "output_type": "execute_result"
    }
   ],
   "source": [
    "df1.columns"
   ]
  },
  {
   "cell_type": "code",
   "execution_count": 10,
   "metadata": {},
   "outputs": [
    {
     "data": {
      "text/plain": [
       "(2684, 21)"
      ]
     },
     "execution_count": 10,
     "metadata": {},
     "output_type": "execute_result"
    }
   ],
   "source": [
    "df1.shape"
   ]
  },
  {
   "cell_type": "code",
   "execution_count": 11,
   "metadata": {},
   "outputs": [],
   "source": [
    "df1_reserve = df1.copy()"
   ]
  },
  {
   "cell_type": "markdown",
   "metadata": {},
   "source": [
    "### Preview:\n",
    "\n",
    "This is basically what was scrapped"
   ]
  },
  {
   "cell_type": "code",
   "execution_count": 47,
   "metadata": {},
   "outputs": [
    {
     "data": {
      "text/html": [
       "<div>\n",
       "<style scoped>\n",
       "    .dataframe tbody tr th:only-of-type {\n",
       "        vertical-align: middle;\n",
       "    }\n",
       "\n",
       "    .dataframe tbody tr th {\n",
       "        vertical-align: top;\n",
       "    }\n",
       "\n",
       "    .dataframe thead th {\n",
       "        text-align: right;\n",
       "    }\n",
       "</style>\n",
       "<table border=\"1\" class=\"dataframe\">\n",
       "  <thead>\n",
       "    <tr style=\"text-align: right;\">\n",
       "      <th></th>\n",
       "      <th>Year</th>\n",
       "      <th>Tm</th>\n",
       "      <th>Lg</th>\n",
       "      <th>G</th>\n",
       "      <th>W</th>\n",
       "      <th>L</th>\n",
       "      <th>Ties</th>\n",
       "      <th>W-L%</th>\n",
       "      <th>pythW-L%</th>\n",
       "      <th>Finish</th>\n",
       "      <th>...</th>\n",
       "      <th>Playoffs</th>\n",
       "      <th>R</th>\n",
       "      <th>RA</th>\n",
       "      <th>Attendance</th>\n",
       "      <th>BatAge</th>\n",
       "      <th>PAge</th>\n",
       "      <th>#Bat</th>\n",
       "      <th>#P</th>\n",
       "      <th>Top Player</th>\n",
       "      <th>Managers</th>\n",
       "    </tr>\n",
       "  </thead>\n",
       "  <tbody>\n",
       "    <tr>\n",
       "      <th>109</th>\n",
       "      <td>1910</td>\n",
       "      <td>Cleveland Naps</td>\n",
       "      <td>AL</td>\n",
       "      <td>161</td>\n",
       "      <td>71</td>\n",
       "      <td>81</td>\n",
       "      <td>9</td>\n",
       "      <td>.467</td>\n",
       "      <td>.418</td>\n",
       "      <td>5th of 8</td>\n",
       "      <td>...</td>\n",
       "      <td></td>\n",
       "      <td>548</td>\n",
       "      <td>657</td>\n",
       "      <td>293,456</td>\n",
       "      <td>28.2</td>\n",
       "      <td>26.6</td>\n",
       "      <td>44</td>\n",
       "      <td>14</td>\n",
       "      <td>N.Lajoie (9.8)</td>\n",
       "      <td>D.McGuire (71-81)</td>\n",
       "    </tr>\n",
       "    <tr>\n",
       "      <th>97</th>\n",
       "      <td>1922</td>\n",
       "      <td>Brooklyn Robins</td>\n",
       "      <td>NL</td>\n",
       "      <td>155</td>\n",
       "      <td>76</td>\n",
       "      <td>78</td>\n",
       "      <td>1</td>\n",
       "      <td>.494</td>\n",
       "      <td>.493</td>\n",
       "      <td>6th of 8</td>\n",
       "      <td>...</td>\n",
       "      <td></td>\n",
       "      <td>743</td>\n",
       "      <td>754</td>\n",
       "      <td>498,865</td>\n",
       "      <td>30.1</td>\n",
       "      <td>28.8</td>\n",
       "      <td>31</td>\n",
       "      <td>12</td>\n",
       "      <td>D.Ruether (5.1)</td>\n",
       "      <td>W.Robinson (76-78)</td>\n",
       "    </tr>\n",
       "    <tr>\n",
       "      <th>22</th>\n",
       "      <td>1997</td>\n",
       "      <td>Los Angeles Dodgers</td>\n",
       "      <td>NL West</td>\n",
       "      <td>162</td>\n",
       "      <td>88</td>\n",
       "      <td>74</td>\n",
       "      <td>0</td>\n",
       "      <td>.543</td>\n",
       "      <td>.564</td>\n",
       "      <td>2nd of 4</td>\n",
       "      <td>...</td>\n",
       "      <td></td>\n",
       "      <td>742</td>\n",
       "      <td>645</td>\n",
       "      <td>3,319,504</td>\n",
       "      <td>29.3</td>\n",
       "      <td>28.8</td>\n",
       "      <td>44</td>\n",
       "      <td>16</td>\n",
       "      <td>M.Piazza (8.7)</td>\n",
       "      <td>B.Russell (88-74)</td>\n",
       "    </tr>\n",
       "  </tbody>\n",
       "</table>\n",
       "<p>3 rows × 21 columns</p>\n",
       "</div>"
      ],
      "text/plain": [
       "     Year                   Tm       Lg    G   W   L Ties  W-L% pythW-L%  \\\n",
       "109  1910       Cleveland Naps       AL  161  71  81    9  .467     .418   \n",
       "97   1922      Brooklyn Robins       NL  155  76  78    1  .494     .493   \n",
       "22   1997  Los Angeles Dodgers  NL West  162  88  74    0  .543     .564   \n",
       "\n",
       "       Finish  ... Playoffs    R   RA Attendance BatAge  PAge #Bat  #P  \\\n",
       "109  5th of 8  ...           548  657    293,456   28.2  26.6   44  14   \n",
       "97   6th of 8  ...           743  754    498,865   30.1  28.8   31  12   \n",
       "22   2nd of 4  ...           742  645  3,319,504   29.3  28.8   44  16   \n",
       "\n",
       "          Top Player            Managers  \n",
       "109   N.Lajoie (9.8)   D.McGuire (71-81)  \n",
       "97   D.Ruether (5.1)  W.Robinson (76-78)  \n",
       "22    M.Piazza (8.7)   B.Russell (88-74)  \n",
       "\n",
       "[3 rows x 21 columns]"
      ]
     },
     "execution_count": 47,
     "metadata": {},
     "output_type": "execute_result"
    }
   ],
   "source": [
    "df1_reserve.sample(3)"
   ]
  },
  {
   "cell_type": "code",
   "execution_count": 12,
   "metadata": {},
   "outputs": [],
   "source": [
    "import matplotlib.pyplot as plt\n",
    "import seaborn as sb\n",
    "%matplotlib inline"
   ]
  },
  {
   "cell_type": "code",
   "execution_count": 13,
   "metadata": {},
   "outputs": [],
   "source": [
    "df1.R = df1.R.astype(int)\n",
    "df1.RA = df1.RA.astype(int)\n",
    "df1.G = df1.G.astype(int)\n",
    "df1['W-L%'] = df1['W-L%'].astype(float)\n",
    "df1['W-L%'] = df1['W-L%'] * 100"
   ]
  },
  {
   "cell_type": "markdown",
   "metadata": {},
   "source": [
    "# Step 2: TEST TRAIN SPLIT"
   ]
  },
  {
   "cell_type": "code",
   "execution_count": 14,
   "metadata": {},
   "outputs": [],
   "source": [
    "from sklearn import tree\n",
    "from sklearn.ensemble import RandomForestRegressor, AdaBoostRegressor\n",
    "from sklearn.linear_model import LinearRegression, Lasso, Ridge\n",
    "from sklearn.model_selection import train_test_split\n",
    "\n",
    "x_train, x_test, y_train, y_test = train_test_split(\n",
    "            df1[['R','RA','G']], df1['W-L%'], test_size=0.30, random_state=42)"
   ]
  },
  {
   "cell_type": "markdown",
   "metadata": {},
   "source": [
    "## Step 3: running a few machine learning regression models"
   ]
  },
  {
   "cell_type": "code",
   "execution_count": 15,
   "metadata": {},
   "outputs": [],
   "source": [
    "decision_tree = tree.DecisionTreeRegressor()\n",
    "rf = RandomForestRegressor(n_estimators = 100, random_state= 0)\n",
    "ada = AdaBoostRegressor(random_state =0)\n",
    "LR = LinearRegression()\n",
    "\n",
    "decision_tree.fit(x_train[['R','RA']], y_train)\n",
    "rf.fit(x_train[['R','RA']],y_train)\n",
    "ada.fit(x_train[['R','RA']],y_train)\n",
    "LR.fit(x_train[['R','RA']],y_train)\n",
    "\n",
    "dt_preds = decision_tree.predict(x_test[['R','RA']])\n",
    "rf_preds = rf.predict(x_test[['R','RA']])\n",
    "ada_preds = ada.predict(x_test[['R','RA']])\n",
    "LR_preds = LR.predict(x_test[['R','RA']])\n",
    "\n",
    "from sklearn.metrics import mean_squared_error, mean_absolute_error, r2_score"
   ]
  },
  {
   "cell_type": "code",
   "execution_count": 16,
   "metadata": {},
   "outputs": [
    {
     "data": {
      "text/plain": [
       "(2.9905707196029776, 2.2975855547678123, 2.6374765403263476, 2.148669043089457)"
      ]
     },
     "execution_count": 16,
     "metadata": {},
     "output_type": "execute_result"
    }
   ],
   "source": [
    "mean_absolute_error(y_test, dt_preds), mean_absolute_error(y_test, rf_preds), mean_absolute_error(y_test, ada_preds), mean_absolute_error(y_test, LR_preds)"
   ]
  },
  {
   "cell_type": "markdown",
   "metadata": {},
   "source": [
    "## Step 4: Comapring Mean Squared Error\n",
    "\n",
    "MSE is better then mean absolute error. Take for example 2 points and a non-vertical line that seperates them. It won't matter if you move your line an inch above or below where it is... as long as it's in between the points the mean absolute error will stay the same (because it just calculates NET distance, so if one of the distances gets shorter but the other one gets longer it will come back to the same)... We need to do better which is why we use Mean Squared Error (MSE) MSE will penalize the points furter away so we will get 1 and only 1 solution which minimizes this."
   ]
  },
  {
   "cell_type": "code",
   "execution_count": 17,
   "metadata": {},
   "outputs": [
    {
     "data": {
      "text/plain": [
       "(14.172586848635236, 8.500926903718941, 11.34323490144544, 7.580158031495682)"
      ]
     },
     "execution_count": 17,
     "metadata": {},
     "output_type": "execute_result"
    }
   ],
   "source": [
    "mean_squared_error(y_test, dt_preds), mean_squared_error(y_test, rf_preds), mean_squared_error(y_test, ada_preds), mean_squared_error(y_test, LR_preds)"
   ]
  },
  {
   "cell_type": "markdown",
   "metadata": {},
   "source": [
    "### Getting the Error:\n",
    "\n",
    "You can take the squared root of the MSE to get the error, here we notice that for Random Forest the error is 2.91% and for Linear regression (multiple linear regression) its 2.75% a pretty solid result"
   ]
  },
  {
   "cell_type": "code",
   "execution_count": 18,
   "metadata": {},
   "outputs": [
    {
     "data": {
      "text/plain": [
       "(2.9156349057656277, 2.7532086792496644)"
      ]
     },
     "execution_count": 18,
     "metadata": {},
     "output_type": "execute_result"
    }
   ],
   "source": [
    "mean_squared_error(y_test, rf_preds)**0.5, mean_squared_error(y_test, LR_preds)**0.5 "
   ]
  },
  {
   "cell_type": "markdown",
   "metadata": {},
   "source": [
    "## Step 5 finding the MSE with the Pythagenpat and Pythagenport equations.\n",
    "\n",
    "Pythagenpat is better then Pythagenport... lets confirm this"
   ]
  },
  {
   "cell_type": "markdown",
   "metadata": {},
   "source": [
    "### Pythagenpat exploration\n",
    "\n",
    "win % = rs ^ X / (rs ^ X + ra ^ X)   \n",
    "\n",
    "Pythagenpat (apparently best version) X = ( (rs + ra)/g ) ^0.285\n",
    "\n",
    "but generally: X = ((rs + ra)/g) ^ something\n",
    "\n",
    "Lets iterate through all the decimals and find the best exponent for our test set"
   ]
  },
  {
   "cell_type": "code",
   "execution_count": 19,
   "metadata": {},
   "outputs": [],
   "source": [
    "results = pd.DataFrame()\n",
    "row = 0\n",
    "for i in range(100,950):\n",
    "    x_test['X_pyth'] = ((x_test.R + x_test.RA)/x_test.G)**(i/1000)\n",
    "    x_test['W%_pyth'] = (x_test.R**x_test.X_pyth) / ( x_test.R**x_test.X_pyth + x_test.RA**x_test.X_pyth)\n",
    "    results.loc[row,'i_exponent'] = i\n",
    "    results.loc[row,'MSE'] = mean_squared_error(y_test, x_test['W%_pyth']*100)\n",
    "    row = row + 1"
   ]
  },
  {
   "cell_type": "code",
   "execution_count": 20,
   "metadata": {},
   "outputs": [
    {
     "data": {
      "text/html": [
       "<div>\n",
       "<style scoped>\n",
       "    .dataframe tbody tr th:only-of-type {\n",
       "        vertical-align: middle;\n",
       "    }\n",
       "\n",
       "    .dataframe tbody tr th {\n",
       "        vertical-align: top;\n",
       "    }\n",
       "\n",
       "    .dataframe thead th {\n",
       "        text-align: right;\n",
       "    }\n",
       "</style>\n",
       "<table border=\"1\" class=\"dataframe\">\n",
       "  <thead>\n",
       "    <tr style=\"text-align: right;\">\n",
       "      <th></th>\n",
       "      <th>i_exponent</th>\n",
       "      <th>MSE</th>\n",
       "    </tr>\n",
       "  </thead>\n",
       "  <tbody>\n",
       "    <tr>\n",
       "      <th>24</th>\n",
       "      <td>124.0</td>\n",
       "      <td>10.960014</td>\n",
       "    </tr>\n",
       "    <tr>\n",
       "      <th>144</th>\n",
       "      <td>244.0</td>\n",
       "      <td>6.737588</td>\n",
       "    </tr>\n",
       "    <tr>\n",
       "      <th>157</th>\n",
       "      <td>257.0</td>\n",
       "      <td>6.591352</td>\n",
       "    </tr>\n",
       "  </tbody>\n",
       "</table>\n",
       "</div>"
      ],
      "text/plain": [
       "     i_exponent        MSE\n",
       "24        124.0  10.960014\n",
       "144       244.0   6.737588\n",
       "157       257.0   6.591352"
      ]
     },
     "execution_count": 20,
     "metadata": {},
     "output_type": "execute_result"
    }
   ],
   "source": [
    "results.sample(3)"
   ]
  },
  {
   "cell_type": "code",
   "execution_count": 21,
   "metadata": {},
   "outputs": [
    {
     "data": {
      "text/html": [
       "<div>\n",
       "<style scoped>\n",
       "    .dataframe tbody tr th:only-of-type {\n",
       "        vertical-align: middle;\n",
       "    }\n",
       "\n",
       "    .dataframe tbody tr th {\n",
       "        vertical-align: top;\n",
       "    }\n",
       "\n",
       "    .dataframe thead th {\n",
       "        text-align: right;\n",
       "    }\n",
       "</style>\n",
       "<table border=\"1\" class=\"dataframe\">\n",
       "  <thead>\n",
       "    <tr style=\"text-align: right;\">\n",
       "      <th></th>\n",
       "      <th>i_exponent</th>\n",
       "      <th>MSE</th>\n",
       "    </tr>\n",
       "  </thead>\n",
       "  <tbody>\n",
       "    <tr>\n",
       "      <th>173</th>\n",
       "      <td>273.0</td>\n",
       "      <td>6.523659</td>\n",
       "    </tr>\n",
       "  </tbody>\n",
       "</table>\n",
       "</div>"
      ],
      "text/plain": [
       "     i_exponent       MSE\n",
       "173       273.0  6.523659"
      ]
     },
     "execution_count": 21,
     "metadata": {},
     "output_type": "execute_result"
    },
    {
     "data": {
      "image/png": "[encoded data removed]",
      "text/plain": [
       "<Figure size 864x432 with 1 Axes>"
      ]
     },
     "metadata": {
      "needs_background": "light"
     },
     "output_type": "display_data"
    }
   ],
   "source": [
    "plt.figure(figsize=(12,6))\n",
    "plt.scatter(results.i_exponent, results.MSE)\n",
    "plt.xlabel('exponent/1000')\n",
    "plt.ylabel('Mean squared error')\n",
    "\n",
    "results[results.MSE==results.MSE.min()]"
   ]
  },
  {
   "cell_type": "code",
   "execution_count": 22,
   "metadata": {},
   "outputs": [
    {
     "data": {
      "text/plain": [
       "2.55414551338183"
      ]
     },
     "execution_count": 22,
     "metadata": {},
     "output_type": "execute_result"
    }
   ],
   "source": [
    "results.MSE.min()**0.5"
   ]
  },
  {
   "cell_type": "markdown",
   "metadata": {},
   "source": [
    "### Pythagenpat results:\n",
    "\n",
    "As we can see, the MSE is 6.5236 which is better then our Multiple Linear Regression. Grabbing the square root gets us 2.554 %"
   ]
  },
  {
   "cell_type": "markdown",
   "metadata": {},
   "source": [
    "### Pythagenport exploration\n",
    "\n",
    "win % = rs ^ x / (rs ^ x + ra ^ x)   tested for run environments between 4 and 40\n",
    "where X = 2 or 1.83\n",
    "<br> Again we will iterate through a bunch of exponents and find the best one"
   ]
  },
  {
   "cell_type": "code",
   "execution_count": 23,
   "metadata": {},
   "outputs": [],
   "source": [
    "results2 = pd.DataFrame()\n",
    "row = 0\n",
    "for power in range(150,250):\n",
    "    results2.loc[row,'power'] = power\n",
    "    results2.loc[row,'MSE'] = mean_squared_error(y_test, (x_test.R**(power/100)/(x_test.R**(power/100)+x_test.RA**(power/100)))* 100)\n",
    "    row += 1"
   ]
  },
  {
   "cell_type": "code",
   "execution_count": 24,
   "metadata": {},
   "outputs": [
    {
     "data": {
      "text/html": [
       "<div>\n",
       "<style scoped>\n",
       "    .dataframe tbody tr th:only-of-type {\n",
       "        vertical-align: middle;\n",
       "    }\n",
       "\n",
       "    .dataframe tbody tr th {\n",
       "        vertical-align: top;\n",
       "    }\n",
       "\n",
       "    .dataframe thead th {\n",
       "        text-align: right;\n",
       "    }\n",
       "</style>\n",
       "<table border=\"1\" class=\"dataframe\">\n",
       "  <thead>\n",
       "    <tr style=\"text-align: right;\">\n",
       "      <th></th>\n",
       "      <th>power</th>\n",
       "      <th>MSE</th>\n",
       "    </tr>\n",
       "  </thead>\n",
       "  <tbody>\n",
       "    <tr>\n",
       "      <th>32</th>\n",
       "      <td>182.0</td>\n",
       "      <td>6.551053</td>\n",
       "    </tr>\n",
       "  </tbody>\n",
       "</table>\n",
       "</div>"
      ],
      "text/plain": [
       "    power       MSE\n",
       "32  182.0  6.551053"
      ]
     },
     "execution_count": 24,
     "metadata": {},
     "output_type": "execute_result"
    }
   ],
   "source": [
    "results2.loc[results2.MSE ==results2.MSE.min()]"
   ]
  },
  {
   "cell_type": "code",
   "execution_count": 25,
   "metadata": {
    "scrolled": true
   },
   "outputs": [
    {
     "data": {
      "text/html": [
       "<div>\n",
       "<style scoped>\n",
       "    .dataframe tbody tr th:only-of-type {\n",
       "        vertical-align: middle;\n",
       "    }\n",
       "\n",
       "    .dataframe tbody tr th {\n",
       "        vertical-align: top;\n",
       "    }\n",
       "\n",
       "    .dataframe thead th {\n",
       "        text-align: right;\n",
       "    }\n",
       "</style>\n",
       "<table border=\"1\" class=\"dataframe\">\n",
       "  <thead>\n",
       "    <tr style=\"text-align: right;\">\n",
       "      <th></th>\n",
       "      <th>power</th>\n",
       "      <th>MSE</th>\n",
       "    </tr>\n",
       "  </thead>\n",
       "  <tbody>\n",
       "    <tr>\n",
       "      <th>50</th>\n",
       "      <td>200.0</td>\n",
       "      <td>7.062826</td>\n",
       "    </tr>\n",
       "  </tbody>\n",
       "</table>\n",
       "</div>"
      ],
      "text/plain": [
       "    power       MSE\n",
       "50  200.0  7.062826"
      ]
     },
     "execution_count": 25,
     "metadata": {},
     "output_type": "execute_result"
    }
   ],
   "source": [
    "results2.query('power == 200')"
   ]
  },
  {
   "cell_type": "markdown",
   "metadata": {},
   "source": [
    "### Pythagenport results:\n",
    "\n",
    "As expected, the pythagenport MSE is better then the Multiple Linear regression but slightly higher then Pythagenpart. The optimal exponent is 1.82 but there isn't that much of a difference between 1.82 and 2 which I believe was traditionally used."
   ]
  },
  {
   "cell_type": "markdown",
   "metadata": {},
   "source": [
    "## Conclusion so far:\n",
    "\n",
    "Yes, this is consistent with the current litterature... Pythagenpat is the best formula/function to predict Win %. We can see the root mean squared error is 6.52 vs 6.55 for PythagenPort. With lienar regression, we were only able to obtain a MSE of 7.5. Other standard machine learning models all had MSE greater then 7.5, all this means is that Pythagenpat is the best estimator we have so far.\n",
    "\n",
    "Pythagenpat: https://legacy.baseballprospectus.com/glossary/index.php?mode=viewstat&stat=136\n",
    "<br>Pythagenport: https://legacy.baseballprospectus.com/glossary/index.php?search=pythagenport"
   ]
  },
  {
   "cell_type": "markdown",
   "metadata": {},
   "source": [
    "## Part 6: grid search on RandomForest to see if we can improve it "
   ]
  },
  {
   "cell_type": "code",
   "execution_count": 26,
   "metadata": {},
   "outputs": [
    {
     "name": "stdout",
     "output_type": "stream",
     "text": [
      "Unoptimized model\n",
      "------\n",
      "MSE score on testing data: 8.5009269\n",
      "\n",
      "Optimized Model\n",
      "------\n",
      "MSE score on the testing data: 7.8760835\n",
      "RandomForestRegressor(bootstrap=True, criterion='mse', max_depth=None,\n",
      "           max_features='auto', max_leaf_nodes=None,\n",
      "           min_impurity_decrease=0.0, min_impurity_split=None,\n",
      "           min_samples_leaf=2, min_samples_split=10,\n",
      "           min_weight_fraction_leaf=0.0, n_estimators=200, n_jobs=None,\n",
      "           oob_score=False, random_state=0, verbose=0, warm_start=False)\n",
      "Wall time: 25.8 s\n"
     ]
    }
   ],
   "source": [
    "%%time\n",
    "# TODO: Import 'GridSearchCV', 'make_scorer', and any other necessary libraries\n",
    "from sklearn.metrics import make_scorer, fbeta_score\n",
    "from sklearn.model_selection import GridSearchCV\n",
    "\n",
    "#the best model was the Random Forest Classifier\n",
    "\n",
    "# TODO: Initialize the classifier\n",
    "clf = RandomForestRegressor(n_estimators= 100,random_state = 0)\n",
    "\n",
    "# TODO: Create the parameters list you wish to tune, using a dictionary if needed.\n",
    "# HINT: parameters = {'parameter_1': [value1, value2], 'parameter_2': [value1, value2]}\n",
    "parameters = { 'n_estimators': [100,200], \n",
    "              'min_samples_split' : [2,10,20], \n",
    "              'min_samples_leaf' :  [2,10,20],\n",
    "              }\n",
    "\n",
    "# TODO: Perform grid search on the classifier using 'scorer' as the scoring method using GridSearchCV()\n",
    "grid_obj = GridSearchCV(clf, parameters, scoring='neg_mean_squared_error', cv=5)\n",
    "\n",
    "# TODO: Fit the grid search object to the training data and find the optimal parameters using fit()\n",
    "grid_fit = grid_obj.fit(x_train[['R','RA']], y_train)\n",
    "\n",
    "# Get the estimator\n",
    "best_clf = grid_fit.best_estimator_\n",
    "\n",
    "# Make predictions using the unoptimized and model\n",
    "predictions = (clf.fit(x_train[['R','RA']], y_train)).predict(x_test[['R','RA']])\n",
    "best_predictions = best_clf.predict(x_test[['R','RA']])\n",
    "\n",
    "# Report the before-and-afterscores\n",
    "print(\"Unoptimized model\\n------\")\n",
    "print(\"MSE score on testing data: {:.7f}\".format(mean_squared_error(y_test, predictions)))\n",
    "print(\"\\nOptimized Model\\n------\")\n",
    "print(\"MSE score on the testing data: {:.7f}\".format(mean_squared_error(y_test, best_predictions)))\n",
    "print(best_clf)"
   ]
  },
  {
   "cell_type": "markdown",
   "metadata": {},
   "source": [
    "### Results:\n",
    "MSE on optimized model is still higher then LR and obviously higher then Pythagenpat"
   ]
  },
  {
   "cell_type": "markdown",
   "metadata": {},
   "source": [
    "## Step 7: Running a quick Neural Network"
   ]
  },
  {
   "cell_type": "markdown",
   "metadata": {},
   "source": [
    "#### I will be using the same training and testing set. I modified it earlier above so here I am going to clean them. I also want to have my y_train and y_test which contain the w%, I want to bound this between 0-1... more on this later"
   ]
  },
  {
   "cell_type": "code",
   "execution_count": 29,
   "metadata": {},
   "outputs": [],
   "source": [
    "x_train2 = x_train.drop('G', axis=1)\n",
    "x_test2  = x_test.drop(['G','X_pyth','W%_pyth'], axis = 1)"
   ]
  },
  {
   "cell_type": "code",
   "execution_count": 32,
   "metadata": {},
   "outputs": [],
   "source": [
    "y_train = y_train/100\n",
    "y_test = y_test/100"
   ]
  },
  {
   "cell_type": "markdown",
   "metadata": {},
   "source": [
    "### importing the proper libraries for PyTorch"
   ]
  },
  {
   "cell_type": "code",
   "execution_count": 33,
   "metadata": {},
   "outputs": [],
   "source": [
    "import torch   #imports PyTorch\n",
    "from torch import nn, optim\n",
    "import torch.nn.functional as F\n",
    "import time"
   ]
  },
  {
   "cell_type": "code",
   "execution_count": 34,
   "metadata": {},
   "outputs": [
    {
     "data": {
      "text/plain": [
       "'GeForce GTX 1050'"
      ]
     },
     "execution_count": 34,
     "metadata": {},
     "output_type": "execute_result"
    }
   ],
   "source": [
    "device = torch.device('cuda' if torch.cuda.is_available() else 'cpu')\n",
    "torch.cuda.get_device_name()"
   ]
  },
  {
   "cell_type": "markdown",
   "metadata": {},
   "source": [
    "### Creating my neural net:\n",
    "\n",
    "the last hidden layer has a Sigmoid function which bounds the result from 0-1 which is why I wanted my win% in y_train and y_test to be between 0-1"
   ]
  },
  {
   "cell_type": "code",
   "execution_count": 35,
   "metadata": {},
   "outputs": [],
   "source": [
    "class model_classifier(nn.Module):\n",
    "    def __init__(self, n_feature, n_hidden, n_output = 1):\n",
    "        super().__init__()\n",
    "        self.hidden = nn.Linear(n_feature, n_hidden)\n",
    "        self.hidden2 = nn.ReLU()\n",
    "        self.hidden3 = nn.Linear(n_hidden, 20)\n",
    "        self.hidden4 = nn.Tanh()\n",
    "        self.hidden5 = nn.Linear(20, 3)\n",
    "        self.hidden6 = nn.Sigmoid()\n",
    "        self.predict = nn.Linear(3, n_output)\n",
    "        \n",
    "        self.dropout = nn.Dropout(p=0)\n",
    "        \n",
    "    def forward(self, x):\n",
    "                \n",
    "        x = self.hidden(x)\n",
    "        x = self.hidden2(x)\n",
    "        x = self.hidden3(x)\n",
    "        x = self.hidden4(x)\n",
    "        x = self.hidden5(x)\n",
    "        x = self.hidden6(x)\n",
    "        \n",
    "        x = self.predict(x)\n",
    "        \n",
    "        return x"
   ]
  },
  {
   "cell_type": "code",
   "execution_count": 36,
   "metadata": {},
   "outputs": [],
   "source": [
    "model = model_classifier(n_feature = x_train2.shape[1], n_hidden = 40, n_output = 1)\n",
    "\n",
    "optimizer = optim.Adam(model.parameters(), lr = 0.00001)\n",
    "\n",
    "criterion = nn.MSELoss()\n",
    "\n",
    "model.to(device);"
   ]
  },
  {
   "cell_type": "code",
   "execution_count": 37,
   "metadata": {},
   "outputs": [
    {
     "name": "stdout",
     "output_type": "stream",
     "text": [
      "Round 10000\n",
      "Round 20000\n",
      "Round 30000\n",
      "Round 40000\n",
      "Round 50000\n",
      "Round 60000\n",
      "Round 70000\n",
      "Round 80000\n",
      "Round 90000\n",
      "Round 100000\n",
      "COMPLETE\n"
     ]
    }
   ],
   "source": [
    "epochs = 100000\n",
    "model.to(device);\n",
    "\n",
    "x_train_tensor = torch.tensor(x_train2.values).float().to(device)\n",
    "y_train_tensor = torch.tensor(y_train.values).float().to(device)\n",
    "\n",
    "x_test_tensor = torch.tensor(x_test2.values).float().to(device)\n",
    "y_test_tensor = torch.tensor(y_test.values).float().to(device)\n",
    "\n",
    "train_loss_records, test_loss_records = [], []\n",
    "model.train()\n",
    "for epoch in range(0,epochs):\n",
    "    running_loss = 0\n",
    "    \n",
    "    optimizer.zero_grad()\n",
    "    \n",
    "    output = model(x_train_tensor)\n",
    "    y_train_tensor =  y_train_tensor.view(*output.shape)\n",
    "    loss = criterion(output,y_train_tensor)\n",
    "    loss.backward()\n",
    "    optimizer.step()\n",
    "    \n",
    "    running_loss += loss.item()\n",
    "    \n",
    "    train_loss_records.append(running_loss)\n",
    "    \n",
    "    model.eval()\n",
    "    test_loss = 0\n",
    "    accuracy = 0\n",
    "    \n",
    "    with torch.no_grad():\n",
    "        \n",
    "        output2 = model(x_test_tensor)\n",
    "        y_test_tensor = y_test_tensor.view(*output2.shape)\n",
    "        test_loss += criterion(output2, y_test_tensor)\n",
    "        \n",
    "        test_loss_records.append(test_loss.item())\n",
    "    \n",
    "    model.train()\n",
    "    \n",
    "    if ((epoch+1) % 10000) == 0:\n",
    "        print('Round', epoch+1)\n",
    "print('COMPLETE')"
   ]
  },
  {
   "cell_type": "code",
   "execution_count": 38,
   "metadata": {},
   "outputs": [],
   "source": [
    "tls = pd.DataFrame(train_loss_records)\n",
    "tls.rename(columns={0:'MSE'}, inplace=True)\n",
    "testlr = pd.DataFrame(test_loss_records)\n",
    "testlr.rename(columns={0:'MSE'}, inplace=True)"
   ]
  },
  {
   "cell_type": "markdown",
   "metadata": {},
   "source": [
    "### Neural Net results"
   ]
  },
  {
   "cell_type": "code",
   "execution_count": 39,
   "metadata": {},
   "outputs": [
    {
     "name": "stdout",
     "output_type": "stream",
     "text": [
      "Adam (\n",
      "Parameter Group 0\n",
      "    amsgrad: False\n",
      "    betas: (0.9, 0.999)\n",
      "    eps: 1e-08\n",
      "    lr: 1e-05\n",
      "    weight_decay: 0\n",
      ")\n"
     ]
    },
    {
     "data": {
      "image/png": "[encoded data removed]",
      "text/plain": [
       "<Figure size 432x288 with 1 Axes>"
      ]
     },
     "metadata": {
      "needs_background": "light"
     },
     "output_type": "display_data"
    }
   ],
   "source": [
    "plt.plot(tls, label='Training_loss', color='r')\n",
    "plt.plot(testlr, label='Test_loss', color='g')\n",
    "print(optimizer)"
   ]
  },
  {
   "cell_type": "code",
   "execution_count": 43,
   "metadata": {},
   "outputs": [
    {
     "data": {
      "text/html": [
       "<div>\n",
       "<style scoped>\n",
       "    .dataframe tbody tr th:only-of-type {\n",
       "        vertical-align: middle;\n",
       "    }\n",
       "\n",
       "    .dataframe tbody tr th {\n",
       "        vertical-align: top;\n",
       "    }\n",
       "\n",
       "    .dataframe thead th {\n",
       "        text-align: right;\n",
       "    }\n",
       "</style>\n",
       "<table border=\"1\" class=\"dataframe\">\n",
       "  <thead>\n",
       "    <tr style=\"text-align: right;\">\n",
       "      <th></th>\n",
       "      <th>MSE</th>\n",
       "    </tr>\n",
       "  </thead>\n",
       "  <tbody>\n",
       "    <tr>\n",
       "      <th>99995</th>\n",
       "      <td>0.00068</td>\n",
       "    </tr>\n",
       "    <tr>\n",
       "      <th>99996</th>\n",
       "      <td>0.00068</td>\n",
       "    </tr>\n",
       "    <tr>\n",
       "      <th>99997</th>\n",
       "      <td>0.00068</td>\n",
       "    </tr>\n",
       "    <tr>\n",
       "      <th>99998</th>\n",
       "      <td>0.00068</td>\n",
       "    </tr>\n",
       "    <tr>\n",
       "      <th>99999</th>\n",
       "      <td>0.00068</td>\n",
       "    </tr>\n",
       "  </tbody>\n",
       "</table>\n",
       "</div>"
      ],
      "text/plain": [
       "           MSE\n",
       "99995  0.00068\n",
       "99996  0.00068\n",
       "99997  0.00068\n",
       "99998  0.00068\n",
       "99999  0.00068"
      ]
     },
     "execution_count": 43,
     "metadata": {},
     "output_type": "execute_result"
    }
   ],
   "source": [
    "testlr.tail()  #stands for test losses, this gets me the last 5 values at the end..."
   ]
  },
  {
   "cell_type": "code",
   "execution_count": 41,
   "metadata": {},
   "outputs": [
    {
     "data": {
      "text/html": [
       "<div>\n",
       "<style scoped>\n",
       "    .dataframe tbody tr th:only-of-type {\n",
       "        vertical-align: middle;\n",
       "    }\n",
       "\n",
       "    .dataframe tbody tr th {\n",
       "        vertical-align: top;\n",
       "    }\n",
       "\n",
       "    .dataframe thead th {\n",
       "        text-align: right;\n",
       "    }\n",
       "</style>\n",
       "<table border=\"1\" class=\"dataframe\">\n",
       "  <thead>\n",
       "    <tr style=\"text-align: right;\">\n",
       "      <th></th>\n",
       "      <th>MSE</th>\n",
       "    </tr>\n",
       "  </thead>\n",
       "  <tbody>\n",
       "    <tr>\n",
       "      <th>54654</th>\n",
       "      <td>0.000679</td>\n",
       "    </tr>\n",
       "  </tbody>\n",
       "</table>\n",
       "</div>"
      ],
      "text/plain": [
       "            MSE\n",
       "54654  0.000679"
      ]
     },
     "execution_count": 41,
     "metadata": {},
     "output_type": "execute_result"
    }
   ],
   "source": [
    "testlr[testlr.MSE == testlr.MSE.min()]"
   ]
  },
  {
   "cell_type": "markdown",
   "metadata": {},
   "source": [
    "This is the same as a MSE of 6.59 if our W% hadnt been scaled from 0 to 100% to 0 to 1"
   ]
  },
  {
   "cell_type": "code",
   "execution_count": 42,
   "metadata": {},
   "outputs": [
    {
     "name": "stdout",
     "output_type": "stream",
     "text": [
      "6.589999999999999\n",
      "6.695000000000001\n"
     ]
    }
   ],
   "source": [
    "print((0.000659**0.5 * 100)**2),  # last time I got this result...\n",
    "print((0.0006695**0.5 * 100)**2)"
   ]
  },
  {
   "cell_type": "markdown",
   "metadata": {},
   "source": [
    "### Conclusion: \n",
    "\n",
    "We got very close to Pythagenpat which had a MSE of 6.52, I don't know why its different. Will continue this research later.\n",
    "\n",
    "Now we basically have a model and we can input the Runs Scored and Runs Against and obtain a very accurate Win % estimator.\n",
    "\n",
    "The reason we obtain errors is that the amount of wins and losses isn't 100% related to the amount of runs scored and runs against, for example consider a team winning 13-0 and losing the next game 0-1... now repeat these games multiple times and the team would have scored 13\\*n runs and would have allowed 1\\*n... their record would be 50% yet the Pythagenpat and our neural net model would surely predict a very high win-rate... \n",
    "\n",
    "<br>So yes, runs scored and runs against is not a perfect model but having an error of 2.55% is pretty good. So 66% of the time the error will be +-2.55%, 95% it will be +-5% and 99.9% of the time it will be at +-7.5%. 2.5% translates to 4 games which means that 99.9% of the time the team's actual amount of wins will vary by 12 games on the upside or 12 games on the downside."
   ]
  },
  {
   "cell_type": "markdown",
   "metadata": {},
   "source": [
    "Henry"
   ]
  }
 ],
 "metadata": {
  "kernelspec": {
   "display_name": "Python 3",
   "language": "python",
   "name": "python3"
  },
  "language_info": {
   "codemirror_mode": {
    "name": "ipython",
    "version": 3
   },
   "file_extension": ".py",
   "mimetype": "text/x-python",
   "name": "python",
   "nbconvert_exporter": "python",
   "pygments_lexer": "ipython3",
   "version": "3.7.3"
  }
 },
 "nbformat": 4,
 "nbformat_minor": 2
}
